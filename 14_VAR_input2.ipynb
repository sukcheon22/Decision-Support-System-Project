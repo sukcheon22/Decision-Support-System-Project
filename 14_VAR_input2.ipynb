{
  "cells": [
    {
      "cell_type": "code",
      "execution_count": 68,
      "metadata": {
        "id": "nxuAh-Apd5o2"
      },
      "outputs": [],
      "source": [
        "import pandas as pd\n",
        "import numpy as np\n",
        "import matplotlib.pyplot as plt\n",
        "import seaborn as sns\n",
        "%matplotlib inline\n",
        "\n",
        "# Import Statsmodels\n",
        "from statsmodels.tsa.api import VAR\n",
        "from statsmodels.tsa.stattools import adfuller\n",
        "from statsmodels.tools.eval_measures import rmse, aic\n",
        "from statsmodels.tsa.seasonal import seasonal_decompose"
      ]
    },
    {
      "cell_type": "code",
      "execution_count": 69,
      "metadata": {
        "colab": {
          "base_uri": "https://localhost:8080/",
          "height": 255
        },
        "id": "I7U14G_nE5tb",
        "outputId": "2b2cd308-5855-4f87-b03d-9d9ee46948c9"
      },
      "outputs": [
        {
          "name": "stdout",
          "output_type": "stream",
          "text": [
            "(1239, 5)\n"
          ]
        },
        {
          "data": {
            "text/html": [
              "<div>\n",
              "<style scoped>\n",
              "    .dataframe tbody tr th:only-of-type {\n",
              "        vertical-align: middle;\n",
              "    }\n",
              "\n",
              "    .dataframe tbody tr th {\n",
              "        vertical-align: top;\n",
              "    }\n",
              "\n",
              "    .dataframe thead th {\n",
              "        text-align: right;\n",
              "    }\n",
              "</style>\n",
              "<table border=\"1\" class=\"dataframe\">\n",
              "  <thead>\n",
              "    <tr style=\"text-align: right;\">\n",
              "      <th></th>\n",
              "      <th>Close/Last</th>\n",
              "      <th>SMA</th>\n",
              "      <th>MACD</th>\n",
              "      <th>Signal_Line</th>\n",
              "      <th>RSI</th>\n",
              "    </tr>\n",
              "    <tr>\n",
              "      <th>Date</th>\n",
              "      <th></th>\n",
              "      <th></th>\n",
              "      <th></th>\n",
              "      <th></th>\n",
              "      <th></th>\n",
              "    </tr>\n",
              "  </thead>\n",
              "  <tbody>\n",
              "    <tr>\n",
              "      <th>2024-05-30</th>\n",
              "      <td>10205.24</td>\n",
              "      <td>10283.5305</td>\n",
              "      <td>97.144368</td>\n",
              "      <td>99.123486</td>\n",
              "      <td>57.155972</td>\n",
              "    </tr>\n",
              "    <tr>\n",
              "      <th>2024-05-29</th>\n",
              "      <td>10396.40</td>\n",
              "      <td>10257.8745</td>\n",
              "      <td>122.489392</td>\n",
              "      <td>99.618265</td>\n",
              "      <td>66.767226</td>\n",
              "    </tr>\n",
              "    <tr>\n",
              "      <th>2024-05-28</th>\n",
              "      <td>10526.85</td>\n",
              "      <td>10230.3385</td>\n",
              "      <td>133.593631</td>\n",
              "      <td>93.900484</td>\n",
              "      <td>75.571463</td>\n",
              "    </tr>\n",
              "    <tr>\n",
              "      <th>2024-05-24</th>\n",
              "      <td>10549.22</td>\n",
              "      <td>10205.9780</td>\n",
              "      <td>132.541316</td>\n",
              "      <td>83.977197</td>\n",
              "      <td>74.341863</td>\n",
              "    </tr>\n",
              "    <tr>\n",
              "      <th>2024-05-23</th>\n",
              "      <td>10495.82</td>\n",
              "      <td>10181.2985</td>\n",
              "      <td>126.992633</td>\n",
              "      <td>71.836167</td>\n",
              "      <td>76.381399</td>\n",
              "    </tr>\n",
              "  </tbody>\n",
              "</table>\n",
              "</div>"
            ],
            "text/plain": [
              "            Close/Last         SMA        MACD  Signal_Line        RSI\n",
              "Date                                                                  \n",
              "2024-05-30    10205.24  10283.5305   97.144368    99.123486  57.155972\n",
              "2024-05-29    10396.40  10257.8745  122.489392    99.618265  66.767226\n",
              "2024-05-28    10526.85  10230.3385  133.593631    93.900484  75.571463\n",
              "2024-05-24    10549.22  10205.9780  132.541316    83.977197  74.341863\n",
              "2024-05-23    10495.82  10181.2985  126.992633    71.836167  76.381399"
            ]
          },
          "execution_count": 69,
          "metadata": {},
          "output_type": "execute_result"
        }
      ],
      "source": [
        "df = pd.read_csv('Data_input_2.csv', parse_dates=['Date'], index_col='Date')\n",
        "print(df.shape)\n",
        "df.head()"
      ]
    },
    {
      "cell_type": "code",
      "execution_count": 70,
      "metadata": {
        "colab": {
          "base_uri": "https://localhost:8080/",
          "height": 237
        },
        "id": "P_KEOQUzFt4c",
        "outputId": "77b69db0-08cb-48ae-9197-f8509cafe12f"
      },
      "outputs": [
        {
          "data": {
            "text/html": [
              "<div>\n",
              "<style scoped>\n",
              "    .dataframe tbody tr th:only-of-type {\n",
              "        vertical-align: middle;\n",
              "    }\n",
              "\n",
              "    .dataframe tbody tr th {\n",
              "        vertical-align: top;\n",
              "    }\n",
              "\n",
              "    .dataframe thead th {\n",
              "        text-align: right;\n",
              "    }\n",
              "</style>\n",
              "<table border=\"1\" class=\"dataframe\">\n",
              "  <thead>\n",
              "    <tr style=\"text-align: right;\">\n",
              "      <th></th>\n",
              "      <th>Close</th>\n",
              "      <th>SMA</th>\n",
              "      <th>MACD</th>\n",
              "      <th>Signal_Line</th>\n",
              "      <th>RSI</th>\n",
              "    </tr>\n",
              "    <tr>\n",
              "      <th>Date</th>\n",
              "      <th></th>\n",
              "      <th></th>\n",
              "      <th></th>\n",
              "      <th></th>\n",
              "      <th></th>\n",
              "    </tr>\n",
              "  </thead>\n",
              "  <tbody>\n",
              "    <tr>\n",
              "      <th>2019-06-28</th>\n",
              "      <td>4660.72</td>\n",
              "      <td>4481.3010</td>\n",
              "      <td>99.321197</td>\n",
              "      <td>90.056725</td>\n",
              "      <td>61.707838</td>\n",
              "    </tr>\n",
              "    <tr>\n",
              "      <th>2019-07-01</th>\n",
              "      <td>4766.31</td>\n",
              "      <td>4511.1155</td>\n",
              "      <td>109.460715</td>\n",
              "      <td>93.937523</td>\n",
              "      <td>67.217516</td>\n",
              "    </tr>\n",
              "    <tr>\n",
              "      <th>2019-07-02</th>\n",
              "      <td>4747.96</td>\n",
              "      <td>4532.4645</td>\n",
              "      <td>114.693548</td>\n",
              "      <td>98.088728</td>\n",
              "      <td>71.051746</td>\n",
              "    </tr>\n",
              "    <tr>\n",
              "      <th>2019-07-03</th>\n",
              "      <td>4773.91</td>\n",
              "      <td>4554.6995</td>\n",
              "      <td>119.556383</td>\n",
              "      <td>102.382259</td>\n",
              "      <td>71.499561</td>\n",
              "    </tr>\n",
              "    <tr>\n",
              "      <th>2019-07-05</th>\n",
              "      <td>4757.68</td>\n",
              "      <td>4573.8110</td>\n",
              "      <td>120.709130</td>\n",
              "      <td>106.047633</td>\n",
              "      <td>77.083139</td>\n",
              "    </tr>\n",
              "  </tbody>\n",
              "</table>\n",
              "</div>"
            ],
            "text/plain": [
              "              Close        SMA        MACD  Signal_Line        RSI\n",
              "Date                                                              \n",
              "2019-06-28  4660.72  4481.3010   99.321197    90.056725  61.707838\n",
              "2019-07-01  4766.31  4511.1155  109.460715    93.937523  67.217516\n",
              "2019-07-02  4747.96  4532.4645  114.693548    98.088728  71.051746\n",
              "2019-07-03  4773.91  4554.6995  119.556383   102.382259  71.499561\n",
              "2019-07-05  4757.68  4573.8110  120.709130   106.047633  77.083139"
            ]
          },
          "execution_count": 70,
          "metadata": {},
          "output_type": "execute_result"
        }
      ],
      "source": [
        "data = df.iloc[::-1]\n",
        "data.rename(columns = {'Close/Last':'Close'}, inplace = True)\n",
        "data.head()"
      ]
    },
    {
      "cell_type": "code",
      "execution_count": 71,
      "metadata": {
        "colab": {
          "base_uri": "https://localhost:8080/"
        },
        "id": "vNwzrWPZFzsF",
        "outputId": "95b7805e-5db1-4cb4-8d9b-6f78e78bd080"
      },
      "outputs": [
        {
          "data": {
            "text/plain": [
              "Close          0\n",
              "SMA            0\n",
              "MACD           0\n",
              "Signal_Line    0\n",
              "RSI            0\n",
              "dtype: int64"
            ]
          },
          "execution_count": 71,
          "metadata": {},
          "output_type": "execute_result"
        }
      ],
      "source": [
        "data.isnull().sum()"
      ]
    },
    {
      "cell_type": "markdown",
      "metadata": {
        "id": "kXSbpvZjGFms"
      },
      "source": [
        "# Trực quan hóa dữ liệu"
      ]
    },
    {
      "cell_type": "code",
      "execution_count": 72,
      "metadata": {
        "colab": {
          "base_uri": "https://localhost:8080/",
          "height": 526
        },
        "id": "tdizgSyXF3fG",
        "outputId": "cae910ad-6e04-4b35-ddb9-9ef8814af710"
      },
      "outputs": [
        {
          "data": {
            "image/png": "[encoded data removed]",
            "text/plain": [
              "<Figure size 1000x600 with 1 Axes>"
            ]
          },
          "metadata": {},
          "output_type": "display_data"
        }
      ],
      "source": [
        "data['Close'].plot(figsize=(10, 6))\n",
        "plt.title('Technology Sector Index')\n",
        "plt.show()"
      ]
    },
    {
      "cell_type": "code",
      "execution_count": 73,
      "metadata": {
        "id": "WqgIT_NGGLA3"
      },
      "outputs": [],
      "source": [
        "# rolling_window = 30\n",
        "# f, ax = plt.subplots(nrows=2, ncols=2, figsize=(16, 12))\n",
        "\n",
        "# sns.lineplot(x=data.index, y=data.Close, ax=ax[0, 0], color='indianred')\n",
        "# sns.lineplot(x=data.index, y=data.Close.rolling(rolling_window).mean(), ax=ax[0, 0], color='green', label='rolling mean')\n",
        "# sns.lineplot(x=data.index, y=data.Close.rolling(rolling_window).std(), ax=ax[0, 0], color='blue', label='rolling std')\n",
        "# ax[0, 0].set_title('Close', fontsize=14)\n",
        "# ax[0, 0].set_ylabel(ylabel='Close', fontsize=14)\n",
        "\n",
        "# sns.lineplot(x=data.index, y=data.COMP, ax=ax[0, 1], color='indianred')\n",
        "# sns.lineplot(x=data.index, y=data.COMP.rolling(rolling_window).mean(), ax=ax[0, 1], color='green', label='rolling mean')\n",
        "# sns.lineplot(x=data.index, y=data.COMP.rolling(rolling_window).std(), ax=ax[0, 1], color='blue', label='rolling std')\n",
        "# ax[0, 1].set_title('COMP', fontsize=14)\n",
        "# ax[0, 1].set_ylabel(ylabel='COMP', fontsize=14)\n",
        "\n",
        "# sns.lineplot(x=data.index, y=data.NATS, ax=ax[1, 0], color='indianred')\n",
        "# sns.lineplot(x=data.index, y=data.NATS.rolling(rolling_window).mean(), ax=ax[1, 0], color='green', label='rolling mean')\n",
        "# sns.lineplot(x=data.index, y=data.NATS.rolling(rolling_window).std(), ax=ax[1, 0], color='blue', label='rolling std')\n",
        "# ax[1, 0].set_title('NATS', fontsize=14)\n",
        "# ax[1, 0].set_ylabel(ylabel='NATS', fontsize=14)\n",
        "\n",
        "# sns.lineplot(x=data.index, y=data.MSCI, ax=ax[1, 1], color='indianred')\n",
        "# sns.lineplot(x=data.index, y=data.MSCI.rolling(rolling_window).mean(), ax=ax[1, 1], color='green', label='rolling mean')\n",
        "# sns.lineplot(x=data.index, y=data.MSCI.rolling(rolling_window).std(), ax=ax[1, 1], color='blue', label='rolling std')\n",
        "# ax[1, 1].set_title('MSCI', fontsize=14)\n",
        "# ax[1, 1].set_ylabel(ylabel='MSCI', fontsize=14)"
      ]
    },
    {
      "cell_type": "markdown",
      "metadata": {
        "id": "gbxnOkJeGYzJ"
      },
      "source": [
        "Trend/Season Decompose"
      ]
    },
    {
      "cell_type": "code",
      "execution_count": 74,
      "metadata": {
        "id": "eFdg6mmfGTQr"
      },
      "outputs": [],
      "source": [
        "# fig_2, ax_2 = plt.subplots(ncols=2, nrows=4, sharex=True, figsize=(16, 8))\n",
        "\n",
        "# ax_2[0,0].set_title('Decomposition of Close', fontsize=16)\n",
        "# res = seasonal_decompose(data['Close'], period = 365, model='additive', extrapolate_trend='freq')\n",
        "\n",
        "# res.observed.plot(ax=ax_2[0,0], legend=False, color='dodgerblue')\n",
        "# ax_2[0,0].set_ylabel('Observed', fontsize=14)\n",
        "# # ax_2[0,0].set_ylim([-5, 35])\n",
        "\n",
        "# res.trend.plot(ax=ax_2[1,0], legend=False, color='dodgerblue')\n",
        "# ax_2[1,0].set_ylabel('Trend', fontsize=14)\n",
        "# # ax_2[1,0].set_ylim([-5, 35])\n",
        "\n",
        "# res.seasonal.plot(ax=ax_2[2,0], legend=False, color='dodgerblue')\n",
        "# ax_2[2,0].set_ylabel('Seasonal', fontsize=14)\n",
        "# # ax_2[2,0].set_ylim([-15, 15])\n",
        "\n",
        "# res.resid.plot(ax=ax_2[3,0], legend=False, color='dodgerblue')\n",
        "# ax_2[3,0].set_ylabel('Residual', fontsize=14)\n",
        "# # ax_2[3,0].set_ylim([-15, 15])\n",
        "\n",
        "# ax_2[0, 1].set_title('Decomposition of COMP', fontsize=16)\n",
        "# res_comp = seasonal_decompose(data['COMP'], period = 365, model='additive', extrapolate_trend='freq')\n",
        "\n",
        "# res_comp.observed.plot(ax=ax_2[0, 1], legend=False, color='dodgerblue')\n",
        "# ax_2[0, 1].set_ylabel('Observed', fontsize=14)\n",
        "\n",
        "# res_comp.trend.plot(ax=ax_2[1, 1], legend=False, color='dodgerblue')\n",
        "# ax_2[1, 1].set_ylabel('Trend', fontsize=14)\n",
        "\n",
        "# res_comp.seasonal.plot(ax=ax_2[2, 1], legend=False, color='dodgerblue')\n",
        "# ax_2[2, 1].set_ylabel('Seasonal', fontsize=14)\n",
        "\n",
        "# res_comp.resid.plot(ax=ax_2[3, 1], legend=False, color='dodgerblue')\n",
        "# ax_2[3, 1].set_ylabel('Residual', fontsize=14)\n",
        "\n",
        "# plt.show()"
      ]
    },
    {
      "cell_type": "code",
      "execution_count": 75,
      "metadata": {
        "id": "pQlkUHYrGshk"
      },
      "outputs": [],
      "source": [
        "# fig_2, ax_2 = plt.subplots(ncols=2, nrows=4, sharex=True, figsize=(16, 8))\n",
        "\n",
        "# ax_2[0,0].set_title('Decomposition of NATS', fontsize=16)\n",
        "# res = seasonal_decompose(data['NATS'], period = 365, model='additive', extrapolate_trend='freq')\n",
        "\n",
        "# res.observed.plot(ax=ax_2[0,0], legend=False, color='dodgerblue')\n",
        "# ax_2[0,0].set_ylabel('Observed', fontsize=14)\n",
        "\n",
        "\n",
        "# res.trend.plot(ax=ax_2[1,0], legend=False, color='dodgerblue')\n",
        "# ax_2[1,0].set_ylabel('Trend', fontsize=14)\n",
        "\n",
        "\n",
        "# res.seasonal.plot(ax=ax_2[2,0], legend=False, color='dodgerblue')\n",
        "# ax_2[2,0].set_ylabel('Seasonal', fontsize=14)\n",
        "\n",
        "\n",
        "# res.resid.plot(ax=ax_2[3,0], legend=False, color='dodgerblue')\n",
        "# ax_2[3,0].set_ylabel('Residual', fontsize=14)\n",
        "\n",
        "\n",
        "# ax_2[0, 1].set_title('Decomposition of MSCI', fontsize=16)\n",
        "# res_comp = seasonal_decompose(data['MSCI'], period = 365, model='additive', extrapolate_trend='freq')\n",
        "\n",
        "# res_comp.observed.plot(ax=ax_2[0, 1], legend=False, color='dodgerblue')\n",
        "# ax_2[0, 1].set_ylabel('Observed', fontsize=14)\n",
        "\n",
        "# res_comp.trend.plot(ax=ax_2[1, 1], legend=False, color='dodgerblue')\n",
        "# ax_2[1, 1].set_ylabel('Trend', fontsize=14)\n",
        "\n",
        "# res_comp.seasonal.plot(ax=ax_2[2, 1], legend=False, color='dodgerblue')\n",
        "# ax_2[2, 1].set_ylabel('Seasonal', fontsize=14)\n",
        "\n",
        "# res_comp.resid.plot(ax=ax_2[3, 1], legend=False, color='dodgerblue')\n",
        "# ax_2[3, 1].set_ylabel('Residual', fontsize=14)\n",
        "\n",
        "# plt.show()"
      ]
    },
    {
      "cell_type": "markdown",
      "metadata": {
        "id": "VAAbEdc8HJh7"
      },
      "source": [
        "# Kiểm định nhân quả"
      ]
    },
    {
      "cell_type": "code",
      "execution_count": 76,
      "metadata": {
        "id": "eoHChqZ5Hufw"
      },
      "outputs": [],
      "source": [
        "from statsmodels.tsa.stattools import grangercausalitytests"
      ]
    },
    {
      "cell_type": "code",
      "execution_count": 77,
      "metadata": {
        "colab": {
          "base_uri": "https://localhost:8080/",
          "height": 755
        },
        "id": "JfGND0CBH1mQ",
        "outputId": "95d6d0f7-98ff-4b4e-a24a-fcfd1ca65bea"
      },
      "outputs": [
        {
          "name": "stderr",
          "output_type": "stream",
          "text": [
            "d:\\anaconda3\\Lib\\site-packages\\statsmodels\\tsa\\stattools.py:1488: FutureWarning: verbose is deprecated since functions should not print results\n",
            "  warnings.warn(\n",
            "d:\\anaconda3\\Lib\\site-packages\\statsmodels\\tsa\\stattools.py:1488: FutureWarning: verbose is deprecated since functions should not print results\n",
            "  warnings.warn(\n",
            "d:\\anaconda3\\Lib\\site-packages\\statsmodels\\tsa\\stattools.py:1488: FutureWarning: verbose is deprecated since functions should not print results\n",
            "  warnings.warn(\n",
            "d:\\anaconda3\\Lib\\site-packages\\statsmodels\\base\\model.py:1888: ValueWarning: covariance of constraints does not have full rank. The number of constraints is 3, but rank is 1\n",
            "  warnings.warn('covariance of constraints does not have full '\n",
            "d:\\anaconda3\\Lib\\site-packages\\statsmodels\\base\\model.py:1888: ValueWarning: covariance of constraints does not have full rank. The number of constraints is 4, but rank is 2\n",
            "  warnings.warn('covariance of constraints does not have full '\n",
            "d:\\anaconda3\\Lib\\site-packages\\statsmodels\\base\\model.py:1888: ValueWarning: covariance of constraints does not have full rank. The number of constraints is 5, but rank is 3\n",
            "  warnings.warn('covariance of constraints does not have full '\n",
            "d:\\anaconda3\\Lib\\site-packages\\statsmodels\\base\\model.py:1888: ValueWarning: covariance of constraints does not have full rank. The number of constraints is 6, but rank is 4\n",
            "  warnings.warn('covariance of constraints does not have full '\n",
            "d:\\anaconda3\\Lib\\site-packages\\statsmodels\\base\\model.py:1888: ValueWarning: covariance of constraints does not have full rank. The number of constraints is 7, but rank is 5\n",
            "  warnings.warn('covariance of constraints does not have full '\n",
            "d:\\anaconda3\\Lib\\site-packages\\statsmodels\\base\\model.py:1888: ValueWarning: covariance of constraints does not have full rank. The number of constraints is 8, but rank is 6\n",
            "  warnings.warn('covariance of constraints does not have full '\n",
            "d:\\anaconda3\\Lib\\site-packages\\statsmodels\\base\\model.py:1888: ValueWarning: covariance of constraints does not have full rank. The number of constraints is 9, but rank is 7\n",
            "  warnings.warn('covariance of constraints does not have full '\n",
            "d:\\anaconda3\\Lib\\site-packages\\statsmodels\\base\\model.py:1888: ValueWarning: covariance of constraints does not have full rank. The number of constraints is 10, but rank is 8\n",
            "  warnings.warn('covariance of constraints does not have full '\n",
            "d:\\anaconda3\\Lib\\site-packages\\statsmodels\\base\\model.py:1888: ValueWarning: covariance of constraints does not have full rank. The number of constraints is 11, but rank is 9\n",
            "  warnings.warn('covariance of constraints does not have full '\n",
            "d:\\anaconda3\\Lib\\site-packages\\statsmodels\\base\\model.py:1888: ValueWarning: covariance of constraints does not have full rank. The number of constraints is 12, but rank is 10\n",
            "  warnings.warn('covariance of constraints does not have full '\n",
            "d:\\anaconda3\\Lib\\site-packages\\statsmodels\\tsa\\stattools.py:1488: FutureWarning: verbose is deprecated since functions should not print results\n",
            "  warnings.warn(\n",
            "d:\\anaconda3\\Lib\\site-packages\\statsmodels\\base\\model.py:1888: ValueWarning: covariance of constraints does not have full rank. The number of constraints is 4, but rank is 2\n",
            "  warnings.warn('covariance of constraints does not have full '\n",
            "d:\\anaconda3\\Lib\\site-packages\\statsmodels\\base\\model.py:1888: ValueWarning: covariance of constraints does not have full rank. The number of constraints is 5, but rank is 2\n",
            "  warnings.warn('covariance of constraints does not have full '\n",
            "d:\\anaconda3\\Lib\\site-packages\\statsmodels\\base\\model.py:1888: ValueWarning: covariance of constraints does not have full rank. The number of constraints is 6, but rank is 3\n",
            "  warnings.warn('covariance of constraints does not have full '\n",
            "d:\\anaconda3\\Lib\\site-packages\\statsmodels\\base\\model.py:1888: ValueWarning: covariance of constraints does not have full rank. The number of constraints is 7, but rank is 4\n",
            "  warnings.warn('covariance of constraints does not have full '\n",
            "d:\\anaconda3\\Lib\\site-packages\\statsmodels\\base\\model.py:1888: ValueWarning: covariance of constraints does not have full rank. The number of constraints is 8, but rank is 5\n",
            "  warnings.warn('covariance of constraints does not have full '\n",
            "d:\\anaconda3\\Lib\\site-packages\\statsmodels\\base\\model.py:1888: ValueWarning: covariance of constraints does not have full rank. The number of constraints is 9, but rank is 6\n",
            "  warnings.warn('covariance of constraints does not have full '\n",
            "d:\\anaconda3\\Lib\\site-packages\\statsmodels\\base\\model.py:1888: ValueWarning: covariance of constraints does not have full rank. The number of constraints is 10, but rank is 7\n",
            "  warnings.warn('covariance of constraints does not have full '\n",
            "d:\\anaconda3\\Lib\\site-packages\\statsmodels\\base\\model.py:1888: ValueWarning: covariance of constraints does not have full rank. The number of constraints is 11, but rank is 8\n",
            "  warnings.warn('covariance of constraints does not have full '\n",
            "d:\\anaconda3\\Lib\\site-packages\\statsmodels\\base\\model.py:1888: ValueWarning: covariance of constraints does not have full rank. The number of constraints is 12, but rank is 9\n",
            "  warnings.warn('covariance of constraints does not have full '\n",
            "d:\\anaconda3\\Lib\\site-packages\\statsmodels\\tsa\\stattools.py:1488: FutureWarning: verbose is deprecated since functions should not print results\n",
            "  warnings.warn(\n",
            "d:\\anaconda3\\Lib\\site-packages\\statsmodels\\tsa\\stattools.py:1488: FutureWarning: verbose is deprecated since functions should not print results\n",
            "  warnings.warn(\n",
            "d:\\anaconda3\\Lib\\site-packages\\statsmodels\\tsa\\stattools.py:1488: FutureWarning: verbose is deprecated since functions should not print results\n",
            "  warnings.warn(\n",
            "d:\\anaconda3\\Lib\\site-packages\\statsmodels\\tsa\\stattools.py:1488: FutureWarning: verbose is deprecated since functions should not print results\n",
            "  warnings.warn(\n",
            "d:\\anaconda3\\Lib\\site-packages\\statsmodels\\tsa\\stattools.py:1488: FutureWarning: verbose is deprecated since functions should not print results\n",
            "  warnings.warn(\n",
            "d:\\anaconda3\\Lib\\site-packages\\statsmodels\\tsa\\stattools.py:1488: FutureWarning: verbose is deprecated since functions should not print results\n",
            "  warnings.warn(\n",
            "d:\\anaconda3\\Lib\\site-packages\\statsmodels\\tsa\\stattools.py:1488: FutureWarning: verbose is deprecated since functions should not print results\n",
            "  warnings.warn(\n",
            "d:\\anaconda3\\Lib\\site-packages\\statsmodels\\base\\model.py:1888: ValueWarning: covariance of constraints does not have full rank. The number of constraints is 3, but rank is 1\n",
            "  warnings.warn('covariance of constraints does not have full '\n",
            "d:\\anaconda3\\Lib\\site-packages\\statsmodels\\base\\model.py:1888: ValueWarning: covariance of constraints does not have full rank. The number of constraints is 4, but rank is 2\n",
            "  warnings.warn('covariance of constraints does not have full '\n",
            "d:\\anaconda3\\Lib\\site-packages\\statsmodels\\base\\model.py:1888: ValueWarning: covariance of constraints does not have full rank. The number of constraints is 5, but rank is 3\n",
            "  warnings.warn('covariance of constraints does not have full '\n",
            "d:\\anaconda3\\Lib\\site-packages\\statsmodels\\base\\model.py:1888: ValueWarning: covariance of constraints does not have full rank. The number of constraints is 6, but rank is 4\n",
            "  warnings.warn('covariance of constraints does not have full '\n",
            "d:\\anaconda3\\Lib\\site-packages\\statsmodels\\base\\model.py:1888: ValueWarning: covariance of constraints does not have full rank. The number of constraints is 7, but rank is 5\n",
            "  warnings.warn('covariance of constraints does not have full '\n",
            "d:\\anaconda3\\Lib\\site-packages\\statsmodels\\base\\model.py:1888: ValueWarning: covariance of constraints does not have full rank. The number of constraints is 8, but rank is 6\n",
            "  warnings.warn('covariance of constraints does not have full '\n",
            "d:\\anaconda3\\Lib\\site-packages\\statsmodels\\base\\model.py:1888: ValueWarning: covariance of constraints does not have full rank. The number of constraints is 9, but rank is 7\n",
            "  warnings.warn('covariance of constraints does not have full '\n",
            "d:\\anaconda3\\Lib\\site-packages\\statsmodels\\base\\model.py:1888: ValueWarning: covariance of constraints does not have full rank. The number of constraints is 10, but rank is 8\n",
            "  warnings.warn('covariance of constraints does not have full '\n",
            "d:\\anaconda3\\Lib\\site-packages\\statsmodels\\base\\model.py:1888: ValueWarning: covariance of constraints does not have full rank. The number of constraints is 11, but rank is 9\n",
            "  warnings.warn('covariance of constraints does not have full '\n",
            "d:\\anaconda3\\Lib\\site-packages\\statsmodels\\base\\model.py:1888: ValueWarning: covariance of constraints does not have full rank. The number of constraints is 12, but rank is 10\n",
            "  warnings.warn('covariance of constraints does not have full '\n",
            "d:\\anaconda3\\Lib\\site-packages\\statsmodels\\tsa\\stattools.py:1488: FutureWarning: verbose is deprecated since functions should not print results\n",
            "  warnings.warn(\n",
            "d:\\anaconda3\\Lib\\site-packages\\statsmodels\\tsa\\stattools.py:1488: FutureWarning: verbose is deprecated since functions should not print results\n",
            "  warnings.warn(\n",
            "d:\\anaconda3\\Lib\\site-packages\\statsmodels\\tsa\\stattools.py:1488: FutureWarning: verbose is deprecated since functions should not print results\n",
            "  warnings.warn(\n",
            "d:\\anaconda3\\Lib\\site-packages\\statsmodels\\base\\model.py:1888: ValueWarning: covariance of constraints does not have full rank. The number of constraints is 2, but rank is 1\n",
            "  warnings.warn('covariance of constraints does not have full '\n",
            "d:\\anaconda3\\Lib\\site-packages\\statsmodels\\base\\model.py:1888: ValueWarning: covariance of constraints does not have full rank. The number of constraints is 3, but rank is 2\n",
            "  warnings.warn('covariance of constraints does not have full '\n",
            "d:\\anaconda3\\Lib\\site-packages\\statsmodels\\base\\model.py:1888: ValueWarning: covariance of constraints does not have full rank. The number of constraints is 4, but rank is 3\n",
            "  warnings.warn('covariance of constraints does not have full '\n",
            "d:\\anaconda3\\Lib\\site-packages\\statsmodels\\base\\model.py:1888: ValueWarning: covariance of constraints does not have full rank. The number of constraints is 5, but rank is 4\n",
            "  warnings.warn('covariance of constraints does not have full '\n",
            "d:\\anaconda3\\Lib\\site-packages\\statsmodels\\base\\model.py:1888: ValueWarning: covariance of constraints does not have full rank. The number of constraints is 6, but rank is 5\n",
            "  warnings.warn('covariance of constraints does not have full '\n",
            "d:\\anaconda3\\Lib\\site-packages\\statsmodels\\base\\model.py:1888: ValueWarning: covariance of constraints does not have full rank. The number of constraints is 7, but rank is 6\n",
            "  warnings.warn('covariance of constraints does not have full '\n",
            "d:\\anaconda3\\Lib\\site-packages\\statsmodels\\base\\model.py:1888: ValueWarning: covariance of constraints does not have full rank. The number of constraints is 8, but rank is 7\n",
            "  warnings.warn('covariance of constraints does not have full '\n",
            "d:\\anaconda3\\Lib\\site-packages\\statsmodels\\base\\model.py:1888: ValueWarning: covariance of constraints does not have full rank. The number of constraints is 9, but rank is 8\n",
            "  warnings.warn('covariance of constraints does not have full '\n",
            "d:\\anaconda3\\Lib\\site-packages\\statsmodels\\base\\model.py:1888: ValueWarning: covariance of constraints does not have full rank. The number of constraints is 10, but rank is 9\n",
            "  warnings.warn('covariance of constraints does not have full '\n",
            "d:\\anaconda3\\Lib\\site-packages\\statsmodels\\base\\model.py:1888: ValueWarning: covariance of constraints does not have full rank. The number of constraints is 11, but rank is 10\n",
            "  warnings.warn('covariance of constraints does not have full '\n",
            "d:\\anaconda3\\Lib\\site-packages\\statsmodels\\base\\model.py:1888: ValueWarning: covariance of constraints does not have full rank. The number of constraints is 12, but rank is 11\n",
            "  warnings.warn('covariance of constraints does not have full '\n",
            "d:\\anaconda3\\Lib\\site-packages\\statsmodels\\tsa\\stattools.py:1488: FutureWarning: verbose is deprecated since functions should not print results\n",
            "  warnings.warn(\n",
            "d:\\anaconda3\\Lib\\site-packages\\statsmodels\\tsa\\stattools.py:1488: FutureWarning: verbose is deprecated since functions should not print results\n",
            "  warnings.warn(\n",
            "d:\\anaconda3\\Lib\\site-packages\\statsmodels\\base\\model.py:1888: ValueWarning: covariance of constraints does not have full rank. The number of constraints is 4, but rank is 1\n",
            "  warnings.warn('covariance of constraints does not have full '\n",
            "d:\\anaconda3\\Lib\\site-packages\\statsmodels\\base\\model.py:1888: ValueWarning: covariance of constraints does not have full rank. The number of constraints is 5, but rank is 2\n",
            "  warnings.warn('covariance of constraints does not have full '\n",
            "d:\\anaconda3\\Lib\\site-packages\\statsmodels\\base\\model.py:1888: ValueWarning: covariance of constraints does not have full rank. The number of constraints is 6, but rank is 3\n",
            "  warnings.warn('covariance of constraints does not have full '\n",
            "d:\\anaconda3\\Lib\\site-packages\\statsmodels\\base\\model.py:1888: ValueWarning: covariance of constraints does not have full rank. The number of constraints is 7, but rank is 4\n",
            "  warnings.warn('covariance of constraints does not have full '\n",
            "d:\\anaconda3\\Lib\\site-packages\\statsmodels\\base\\model.py:1888: ValueWarning: covariance of constraints does not have full rank. The number of constraints is 8, but rank is 5\n",
            "  warnings.warn('covariance of constraints does not have full '\n",
            "d:\\anaconda3\\Lib\\site-packages\\statsmodels\\base\\model.py:1888: ValueWarning: covariance of constraints does not have full rank. The number of constraints is 9, but rank is 6\n",
            "  warnings.warn('covariance of constraints does not have full '\n",
            "d:\\anaconda3\\Lib\\site-packages\\statsmodels\\base\\model.py:1888: ValueWarning: covariance of constraints does not have full rank. The number of constraints is 10, but rank is 7\n",
            "  warnings.warn('covariance of constraints does not have full '\n",
            "d:\\anaconda3\\Lib\\site-packages\\statsmodels\\base\\model.py:1888: ValueWarning: covariance of constraints does not have full rank. The number of constraints is 11, but rank is 8\n",
            "  warnings.warn('covariance of constraints does not have full '\n",
            "d:\\anaconda3\\Lib\\site-packages\\statsmodels\\base\\model.py:1888: ValueWarning: covariance of constraints does not have full rank. The number of constraints is 12, but rank is 9\n",
            "  warnings.warn('covariance of constraints does not have full '\n",
            "d:\\anaconda3\\Lib\\site-packages\\statsmodels\\tsa\\stattools.py:1488: FutureWarning: verbose is deprecated since functions should not print results\n",
            "  warnings.warn(\n",
            "d:\\anaconda3\\Lib\\site-packages\\statsmodels\\tsa\\stattools.py:1488: FutureWarning: verbose is deprecated since functions should not print results\n",
            "  warnings.warn(\n",
            "d:\\anaconda3\\Lib\\site-packages\\statsmodels\\base\\model.py:1888: ValueWarning: covariance of constraints does not have full rank. The number of constraints is 2, but rank is 1\n",
            "  warnings.warn('covariance of constraints does not have full '\n",
            "d:\\anaconda3\\Lib\\site-packages\\statsmodels\\base\\model.py:1888: ValueWarning: covariance of constraints does not have full rank. The number of constraints is 3, but rank is 2\n",
            "  warnings.warn('covariance of constraints does not have full '\n",
            "d:\\anaconda3\\Lib\\site-packages\\statsmodels\\base\\model.py:1888: ValueWarning: covariance of constraints does not have full rank. The number of constraints is 4, but rank is 3\n",
            "  warnings.warn('covariance of constraints does not have full '\n",
            "d:\\anaconda3\\Lib\\site-packages\\statsmodels\\base\\model.py:1888: ValueWarning: covariance of constraints does not have full rank. The number of constraints is 5, but rank is 4\n",
            "  warnings.warn('covariance of constraints does not have full '\n",
            "d:\\anaconda3\\Lib\\site-packages\\statsmodels\\base\\model.py:1888: ValueWarning: covariance of constraints does not have full rank. The number of constraints is 6, but rank is 5\n",
            "  warnings.warn('covariance of constraints does not have full '\n",
            "d:\\anaconda3\\Lib\\site-packages\\statsmodels\\base\\model.py:1888: ValueWarning: covariance of constraints does not have full rank. The number of constraints is 7, but rank is 6\n",
            "  warnings.warn('covariance of constraints does not have full '\n",
            "d:\\anaconda3\\Lib\\site-packages\\statsmodels\\base\\model.py:1888: ValueWarning: covariance of constraints does not have full rank. The number of constraints is 8, but rank is 7\n",
            "  warnings.warn('covariance of constraints does not have full '\n",
            "d:\\anaconda3\\Lib\\site-packages\\statsmodels\\base\\model.py:1888: ValueWarning: covariance of constraints does not have full rank. The number of constraints is 9, but rank is 8\n",
            "  warnings.warn('covariance of constraints does not have full '\n",
            "d:\\anaconda3\\Lib\\site-packages\\statsmodels\\base\\model.py:1888: ValueWarning: covariance of constraints does not have full rank. The number of constraints is 10, but rank is 9\n",
            "  warnings.warn('covariance of constraints does not have full '\n",
            "d:\\anaconda3\\Lib\\site-packages\\statsmodels\\base\\model.py:1888: ValueWarning: covariance of constraints does not have full rank. The number of constraints is 11, but rank is 10\n",
            "  warnings.warn('covariance of constraints does not have full '\n",
            "d:\\anaconda3\\Lib\\site-packages\\statsmodels\\base\\model.py:1888: ValueWarning: covariance of constraints does not have full rank. The number of constraints is 12, but rank is 11\n",
            "  warnings.warn('covariance of constraints does not have full '\n",
            "d:\\anaconda3\\Lib\\site-packages\\statsmodels\\tsa\\stattools.py:1488: FutureWarning: verbose is deprecated since functions should not print results\n",
            "  warnings.warn(\n",
            "d:\\anaconda3\\Lib\\site-packages\\statsmodels\\tsa\\stattools.py:1488: FutureWarning: verbose is deprecated since functions should not print results\n",
            "  warnings.warn(\n",
            "d:\\anaconda3\\Lib\\site-packages\\statsmodels\\tsa\\stattools.py:1488: FutureWarning: verbose is deprecated since functions should not print results\n",
            "  warnings.warn(\n",
            "d:\\anaconda3\\Lib\\site-packages\\statsmodels\\tsa\\stattools.py:1488: FutureWarning: verbose is deprecated since functions should not print results\n",
            "  warnings.warn(\n",
            "d:\\anaconda3\\Lib\\site-packages\\statsmodels\\tsa\\stattools.py:1488: FutureWarning: verbose is deprecated since functions should not print results\n",
            "  warnings.warn(\n",
            "d:\\anaconda3\\Lib\\site-packages\\statsmodels\\tsa\\stattools.py:1488: FutureWarning: verbose is deprecated since functions should not print results\n",
            "  warnings.warn(\n",
            "d:\\anaconda3\\Lib\\site-packages\\statsmodels\\tsa\\stattools.py:1488: FutureWarning: verbose is deprecated since functions should not print results\n",
            "  warnings.warn(\n"
          ]
        },
        {
          "data": {
            "text/html": [
              "<div>\n",
              "<style scoped>\n",
              "    .dataframe tbody tr th:only-of-type {\n",
              "        vertical-align: middle;\n",
              "    }\n",
              "\n",
              "    .dataframe tbody tr th {\n",
              "        vertical-align: top;\n",
              "    }\n",
              "\n",
              "    .dataframe thead th {\n",
              "        text-align: right;\n",
              "    }\n",
              "</style>\n",
              "<table border=\"1\" class=\"dataframe\">\n",
              "  <thead>\n",
              "    <tr style=\"text-align: right;\">\n",
              "      <th></th>\n",
              "      <th>Close_x</th>\n",
              "      <th>SMA_x</th>\n",
              "      <th>MACD_x</th>\n",
              "      <th>Signal_Line_x</th>\n",
              "      <th>RSI_x</th>\n",
              "    </tr>\n",
              "  </thead>\n",
              "  <tbody>\n",
              "    <tr>\n",
              "      <th>Close_y</th>\n",
              "      <td>1.000</td>\n",
              "      <td>0.0313</td>\n",
              "      <td>0.0091</td>\n",
              "      <td>0.0223</td>\n",
              "      <td>0.0394</td>\n",
              "    </tr>\n",
              "    <tr>\n",
              "      <th>SMA_y</th>\n",
              "      <td>0.000</td>\n",
              "      <td>1.0000</td>\n",
              "      <td>0.0000</td>\n",
              "      <td>0.0000</td>\n",
              "      <td>0.0000</td>\n",
              "    </tr>\n",
              "    <tr>\n",
              "      <th>MACD_y</th>\n",
              "      <td>0.001</td>\n",
              "      <td>0.0007</td>\n",
              "      <td>1.0000</td>\n",
              "      <td>0.0000</td>\n",
              "      <td>0.0000</td>\n",
              "    </tr>\n",
              "    <tr>\n",
              "      <th>Signal_Line_y</th>\n",
              "      <td>0.000</td>\n",
              "      <td>0.0000</td>\n",
              "      <td>0.0000</td>\n",
              "      <td>1.0000</td>\n",
              "      <td>0.0000</td>\n",
              "    </tr>\n",
              "    <tr>\n",
              "      <th>RSI_y</th>\n",
              "      <td>0.000</td>\n",
              "      <td>0.0000</td>\n",
              "      <td>0.0000</td>\n",
              "      <td>0.0000</td>\n",
              "      <td>1.0000</td>\n",
              "    </tr>\n",
              "  </tbody>\n",
              "</table>\n",
              "</div>"
            ],
            "text/plain": [
              "               Close_x   SMA_x  MACD_x  Signal_Line_x   RSI_x\n",
              "Close_y          1.000  0.0313  0.0091         0.0223  0.0394\n",
              "SMA_y            0.000  1.0000  0.0000         0.0000  0.0000\n",
              "MACD_y           0.001  0.0007  1.0000         0.0000  0.0000\n",
              "Signal_Line_y    0.000  0.0000  0.0000         1.0000  0.0000\n",
              "RSI_y            0.000  0.0000  0.0000         0.0000  1.0000"
            ]
          },
          "execution_count": 77,
          "metadata": {},
          "output_type": "execute_result"
        }
      ],
      "source": [
        "maxlag=12\n",
        "test = 'ssr_chi2test'\n",
        "def grangers_causation_matrix(data, variables, test='ssr_chi2test', verbose=False):\n",
        "    df = pd.DataFrame(np.zeros((len(variables), len(variables))), columns=variables, index=variables)\n",
        "    for c in df.columns:\n",
        "        for r in df.index:\n",
        "            test_result = grangercausalitytests(data[[r, c]], maxlag=maxlag, verbose=False)\n",
        "            p_values = [round(test_result[i+1][0][test][1],4) for i in range(maxlag)]\n",
        "            if verbose: print(f'Y = {r}, X = {c}, P Values = {p_values}')\n",
        "            min_p_value = np.min(p_values)\n",
        "            df.loc[r, c] = min_p_value\n",
        "    df.columns = [var + '_x' for var in variables]\n",
        "    df.index = [var + '_y' for var in variables]\n",
        "    return df\n",
        "\n",
        "grangers_causation_matrix(data, variables = data.columns)"
      ]
    },
    {
      "cell_type": "markdown",
      "metadata": {
        "id": "npki5_kyLXig"
      },
      "source": [
        "# Train test split"
      ]
    },
    {
      "cell_type": "code",
      "execution_count": 78,
      "metadata": {
        "colab": {
          "base_uri": "https://localhost:8080/"
        },
        "id": "cU0rc-dKNNKc",
        "outputId": "740a962f-f75c-4191-e3f9-40d70e0fdc5b"
      },
      "outputs": [
        {
          "name": "stdout",
          "output_type": "stream",
          "text": [
            "(1217, 5)\n",
            "(22, 5)\n"
          ]
        }
      ],
      "source": [
        "n_test = 22\n",
        "train_data, test_data = data[:-n_test], data[-n_test:]\n",
        "print(train_data.shape)\n",
        "print(test_data.shape)"
      ]
    },
    {
      "cell_type": "markdown",
      "metadata": {
        "id": "COFMgIKnMDZl"
      },
      "source": [
        "# Kiểm định tính dừng với ADF test và sai phân"
      ]
    },
    {
      "cell_type": "code",
      "execution_count": 79,
      "metadata": {
        "id": "rqzMxdCUL8WY"
      },
      "outputs": [],
      "source": [
        "def adfuller_test(series, signif=0.05, name='', verbose=False):\n",
        "    \"\"\"Perform ADFuller to test for Stationarity of given series and print report\"\"\"\n",
        "    r = adfuller(series, autolag='AIC')\n",
        "    output = {'test_statistic':round(r[0], 4), 'pvalue':round(r[1], 4), 'n_lags':round(r[2], 4), 'n_obs':r[3]}\n",
        "    p_value = output['pvalue']\n",
        "    def adjust(val, length= 6): return str(val).ljust(length)\n",
        "\n",
        "    # Print Summary\n",
        "    # print(f'    Augmented Dickey-Fuller Test on \"{name}\"', \"\\n   \", '-'*47)\n",
        "    # print(f' Null Hypothesis: Data has unit root. Non-Stationary.')\n",
        "    # print(f' Significance Level    = {signif}')\n",
        "    # print(f' Test Statistic        = {output[\"test_statistic\"]}')\n",
        "    # print(f' No. Lags Chosen       = {output[\"n_lags\"]}')\n",
        "\n",
        "    # for key,val in r[4].items():\n",
        "    #     print(f' Critical value {adjust(key)} = {round(val, 3)}')\n",
        "\n",
        "    if p_value <= signif:\n",
        "        print(f\" => P-Value = {p_value}. Rejecting Null Hypothesis.\")\n",
        "        print(f\" => Series is Stationary.\")\n",
        "    else:\n",
        "        print(f\" => P-Value = {p_value}. Weak evidence to reject the Null Hypothesis.\")\n",
        "        print(f\" => Series is Non-Stationary.\")"
      ]
    },
    {
      "cell_type": "code",
      "execution_count": 80,
      "metadata": {
        "colab": {
          "base_uri": "https://localhost:8080/"
        },
        "id": "xyyNVNlYMexA",
        "outputId": "35a235bd-5007-4ba2-e3f2-9e0d50aed763"
      },
      "outputs": [
        {
          "name": "stdout",
          "output_type": "stream",
          "text": [
            " => P-Value = 0.6967. Weak evidence to reject the Null Hypothesis.\n",
            " => Series is Non-Stationary.\n",
            "\n",
            "\n",
            " => P-Value = 0.6548. Weak evidence to reject the Null Hypothesis.\n",
            " => Series is Non-Stationary.\n",
            "\n",
            "\n",
            " => P-Value = 0.0. Rejecting Null Hypothesis.\n",
            " => Series is Stationary.\n",
            "\n",
            "\n",
            " => P-Value = 0.0003. Rejecting Null Hypothesis.\n",
            " => Series is Stationary.\n",
            "\n",
            "\n",
            " => P-Value = 0.0. Rejecting Null Hypothesis.\n",
            " => Series is Stationary.\n",
            "\n",
            "\n"
          ]
        }
      ],
      "source": [
        "for name, column in train_data.items():\n",
        "    adfuller_test(column, name=column.name)\n",
        "    print('\\n')"
      ]
    },
    {
      "cell_type": "markdown",
      "metadata": {
        "id": "J9HkRLxmOGJc"
      },
      "source": [
        "Sai phân dữ liệu"
      ]
    },
    {
      "cell_type": "code",
      "execution_count": 81,
      "metadata": {
        "colab": {
          "base_uri": "https://localhost:8080/",
          "height": 237
        },
        "id": "FrYT8XirNzcu",
        "outputId": "3bb1a36b-9608-4a9d-fb1c-407c627e5e89"
      },
      "outputs": [],
      "source": [
        "# train_data_diff = train_data.diff()\n",
        "# train_data_diff = train_data_diff.dropna()\n",
        "# train_data_diff.head()"
      ]
    },
    {
      "cell_type": "code",
      "execution_count": 82,
      "metadata": {
        "colab": {
          "base_uri": "https://localhost:8080/"
        },
        "id": "FhDV6zmkR2Ee",
        "outputId": "4659c336-4624-4fc8-c689-7d08211d4cd4"
      },
      "outputs": [],
      "source": [
        "# for name, column in train_data_diff.items():\n",
        "#     adfuller_test(column, name=column.name)\n",
        "#     print('\\n')"
      ]
    },
    {
      "cell_type": "markdown",
      "metadata": {
        "id": "0YMn30-DOZz-"
      },
      "source": [
        "# Dự báo tuyến tính lùi (Sử dụng trong trường hợp các chuỗi dừng với sai phân khác nhau)"
      ]
    },
    {
      "cell_type": "code",
      "execution_count": null,
      "metadata": {},
      "outputs": [],
      "source": []
    },
    {
      "cell_type": "code",
      "execution_count": 83,
      "metadata": {
        "id": "28g6odwsOhJY"
      },
      "outputs": [],
      "source": [
        "def cal_gamma_0(n, array):\n",
        "  gamma_0 = 0\n",
        "  for i in range(n):\n",
        "    temp = array[i] * array[i]\n",
        "    gamma_0 += temp\n",
        "  gamma_0 = gamma_0 / n\n",
        "  return gamma_0\n",
        "def cal_gamma_1(n, array):\n",
        "  gamma_1 = 0\n",
        "  for i in range(n - 1):\n",
        "    temp = array[i] * array[i + 1]\n",
        "    gamma_1 += temp\n",
        "  gamma_1 = gamma_1 / n\n",
        "  return gamma_1\n",
        "def cal_gamma_2(n, array):\n",
        "  gamma_2 = 0\n",
        "  for i in range(n - 2):\n",
        "    temp = array[i] * array[i + 2]\n",
        "    gamma_2 += temp\n",
        "  gamma_2 = gamma_2 / n\n",
        "  return gamma_2\n",
        "def cal_gamma_3(n, array):\n",
        "  gamma_3 = 0\n",
        "  for i in range(n - 3):\n",
        "    temp = array[i] * array[i + 3]\n",
        "    gamma_3 += temp\n",
        "  gamma_3 = gamma_3 / n\n",
        "  return gamma_3\n",
        "def theta_3steps(gamma_0, gamma_1, gamma_2, gamma_3):\n",
        "  Theta = np.zeros((3,1))\n",
        "  Gamma = np.zeros((3,3))\n",
        "  gamma = np.zeros((3,1))\n",
        "  Gamma[0,0] = gamma_0\n",
        "  Gamma[0,1] = gamma_1\n",
        "  Gamma[0,2] = gamma_2\n",
        "  Gamma[1,0] = gamma_1\n",
        "  Gamma[1,1] = gamma_0\n",
        "  Gamma[1,2] = gamma_1\n",
        "  Gamma[2,0] = gamma_2\n",
        "  Gamma[2,1] = gamma_1\n",
        "  Gamma[2,2] = gamma_0\n",
        "  gamma[0,0] = gamma_1\n",
        "  gamma[1,0] = gamma_2\n",
        "  gamma[2,0] = gamma_3\n",
        "  Theta = np.dot(np.linalg.inv(Gamma), gamma)\n",
        "  return Theta\n",
        "def predict_prev(array):\n",
        "  mean = np.mean(array)\n",
        "  n = len(array)\n",
        "  array = array - mean\n",
        "  gamma_0 = cal_gamma_0(n, array)\n",
        "  gamma_1 = cal_gamma_1(n, array)\n",
        "  gamma_2 = cal_gamma_2(n, array)\n",
        "  gamma_3 = cal_gamma_3(n, array)\n",
        "  Theta = theta_3steps(gamma_0, gamma_1 , gamma_2, gamma_3)\n",
        "  predict = Theta[0,0] * array[0] + Theta[1,0] * array[1] + Theta[2,0] * array[2] + mean\n",
        "  return predict"
      ]
    },
    {
      "cell_type": "code",
      "execution_count": 84,
      "metadata": {},
      "outputs": [
        {
          "data": {
            "text/html": [
              "<div>\n",
              "<style scoped>\n",
              "    .dataframe tbody tr th:only-of-type {\n",
              "        vertical-align: middle;\n",
              "    }\n",
              "\n",
              "    .dataframe tbody tr th {\n",
              "        vertical-align: top;\n",
              "    }\n",
              "\n",
              "    .dataframe thead th {\n",
              "        text-align: right;\n",
              "    }\n",
              "</style>\n",
              "<table border=\"1\" class=\"dataframe\">\n",
              "  <thead>\n",
              "    <tr style=\"text-align: right;\">\n",
              "      <th></th>\n",
              "      <th>Close</th>\n",
              "      <th>SMA</th>\n",
              "      <th>MACD</th>\n",
              "      <th>Signal_Line</th>\n",
              "      <th>RSI</th>\n",
              "    </tr>\n",
              "    <tr>\n",
              "      <th>Date</th>\n",
              "      <th></th>\n",
              "      <th></th>\n",
              "      <th></th>\n",
              "      <th></th>\n",
              "      <th></th>\n",
              "    </tr>\n",
              "  </thead>\n",
              "  <tbody>\n",
              "    <tr>\n",
              "      <th>2019-06-28</th>\n",
              "      <td>NaN</td>\n",
              "      <td>NaN</td>\n",
              "      <td>99.321197</td>\n",
              "      <td>90.056725</td>\n",
              "      <td>61.707838</td>\n",
              "    </tr>\n",
              "    <tr>\n",
              "      <th>2019-07-01</th>\n",
              "      <td>105.59</td>\n",
              "      <td>29.8145</td>\n",
              "      <td>109.460715</td>\n",
              "      <td>93.937523</td>\n",
              "      <td>67.217516</td>\n",
              "    </tr>\n",
              "    <tr>\n",
              "      <th>2019-07-02</th>\n",
              "      <td>-18.35</td>\n",
              "      <td>21.3490</td>\n",
              "      <td>114.693548</td>\n",
              "      <td>98.088728</td>\n",
              "      <td>71.051746</td>\n",
              "    </tr>\n",
              "    <tr>\n",
              "      <th>2019-07-03</th>\n",
              "      <td>25.95</td>\n",
              "      <td>22.2350</td>\n",
              "      <td>119.556383</td>\n",
              "      <td>102.382259</td>\n",
              "      <td>71.499561</td>\n",
              "    </tr>\n",
              "    <tr>\n",
              "      <th>2019-07-05</th>\n",
              "      <td>-16.23</td>\n",
              "      <td>19.1115</td>\n",
              "      <td>120.709130</td>\n",
              "      <td>106.047633</td>\n",
              "      <td>77.083139</td>\n",
              "    </tr>\n",
              "  </tbody>\n",
              "</table>\n",
              "</div>"
            ],
            "text/plain": [
              "             Close      SMA        MACD  Signal_Line        RSI\n",
              "Date                                                           \n",
              "2019-06-28     NaN      NaN   99.321197    90.056725  61.707838\n",
              "2019-07-01  105.59  29.8145  109.460715    93.937523  67.217516\n",
              "2019-07-02  -18.35  21.3490  114.693548    98.088728  71.051746\n",
              "2019-07-03   25.95  22.2350  119.556383   102.382259  71.499561\n",
              "2019-07-05  -16.23  19.1115  120.709130   106.047633  77.083139"
            ]
          },
          "execution_count": 84,
          "metadata": {},
          "output_type": "execute_result"
        }
      ],
      "source": [
        "train_data_diff = pd.DataFrame()\n",
        "train_data_diff['Close'] = train_data['Close'].diff()\n",
        "train_data_diff['SMA'] = train_data['SMA'].diff()\n",
        "train_data_diff['MACD'] = train_data['MACD']\n",
        "train_data_diff['Signal_Line'] = train_data['Signal_Line']\n",
        "train_data_diff['RSI'] = train_data['RSI']\n",
        "train_data_diff.head()"
      ]
    },
    {
      "cell_type": "code",
      "execution_count": 85,
      "metadata": {
        "id": "nQbSic88QLgo"
      },
      "outputs": [
        {
          "data": {
            "text/html": [
              "<div>\n",
              "<style scoped>\n",
              "    .dataframe tbody tr th:only-of-type {\n",
              "        vertical-align: middle;\n",
              "    }\n",
              "\n",
              "    .dataframe tbody tr th {\n",
              "        vertical-align: top;\n",
              "    }\n",
              "\n",
              "    .dataframe thead th {\n",
              "        text-align: right;\n",
              "    }\n",
              "</style>\n",
              "<table border=\"1\" class=\"dataframe\">\n",
              "  <thead>\n",
              "    <tr style=\"text-align: right;\">\n",
              "      <th></th>\n",
              "      <th>Close</th>\n",
              "      <th>SMA</th>\n",
              "      <th>MACD</th>\n",
              "      <th>Signal_Line</th>\n",
              "      <th>RSI</th>\n",
              "    </tr>\n",
              "    <tr>\n",
              "      <th>Date</th>\n",
              "      <th></th>\n",
              "      <th></th>\n",
              "      <th></th>\n",
              "      <th></th>\n",
              "      <th></th>\n",
              "    </tr>\n",
              "  </thead>\n",
              "  <tbody>\n",
              "    <tr>\n",
              "      <th>2019-06-28</th>\n",
              "      <td>-5.393977</td>\n",
              "      <td>27.524598</td>\n",
              "      <td>99.321197</td>\n",
              "      <td>90.056725</td>\n",
              "      <td>61.707838</td>\n",
              "    </tr>\n",
              "    <tr>\n",
              "      <th>2019-07-01</th>\n",
              "      <td>105.590000</td>\n",
              "      <td>29.814500</td>\n",
              "      <td>109.460715</td>\n",
              "      <td>93.937523</td>\n",
              "      <td>67.217516</td>\n",
              "    </tr>\n",
              "    <tr>\n",
              "      <th>2019-07-02</th>\n",
              "      <td>-18.350000</td>\n",
              "      <td>21.349000</td>\n",
              "      <td>114.693548</td>\n",
              "      <td>98.088728</td>\n",
              "      <td>71.051746</td>\n",
              "    </tr>\n",
              "    <tr>\n",
              "      <th>2019-07-03</th>\n",
              "      <td>25.950000</td>\n",
              "      <td>22.235000</td>\n",
              "      <td>119.556383</td>\n",
              "      <td>102.382259</td>\n",
              "      <td>71.499561</td>\n",
              "    </tr>\n",
              "    <tr>\n",
              "      <th>2019-07-05</th>\n",
              "      <td>-16.230000</td>\n",
              "      <td>19.111500</td>\n",
              "      <td>120.709130</td>\n",
              "      <td>106.047633</td>\n",
              "      <td>77.083139</td>\n",
              "    </tr>\n",
              "  </tbody>\n",
              "</table>\n",
              "</div>"
            ],
            "text/plain": [
              "                 Close        SMA        MACD  Signal_Line        RSI\n",
              "Date                                                                 \n",
              "2019-06-28   -5.393977  27.524598   99.321197    90.056725  61.707838\n",
              "2019-07-01  105.590000  29.814500  109.460715    93.937523  67.217516\n",
              "2019-07-02  -18.350000  21.349000  114.693548    98.088728  71.051746\n",
              "2019-07-03   25.950000  22.235000  119.556383   102.382259  71.499561\n",
              "2019-07-05  -16.230000  19.111500  120.709130   106.047633  77.083139"
            ]
          },
          "execution_count": 85,
          "metadata": {},
          "output_type": "execute_result"
        }
      ],
      "source": [
        "columns = ['Close', 'SMA'] #Tên chuỗi cần bù giá trị\n",
        "predicted_data = {}\n",
        "\n",
        "for column in columns:\n",
        "  array_column = train_data_diff[column].to_numpy()\n",
        "  predicted_data[column] = predict_prev(array_column[1:])\n",
        "  train_data_diff[column].iloc[0] = predicted_data[column]\n",
        "train_data_diff.head()\n"
      ]
    },
    {
      "cell_type": "code",
      "execution_count": 86,
      "metadata": {},
      "outputs": [
        {
          "name": "stdout",
          "output_type": "stream",
          "text": [
            " => P-Value = 0.0. Rejecting Null Hypothesis.\n",
            " => Series is Stationary.\n",
            "\n",
            "\n",
            " => P-Value = 0.0. Rejecting Null Hypothesis.\n",
            " => Series is Stationary.\n",
            "\n",
            "\n",
            " => P-Value = 0.0. Rejecting Null Hypothesis.\n",
            " => Series is Stationary.\n",
            "\n",
            "\n",
            " => P-Value = 0.0003. Rejecting Null Hypothesis.\n",
            " => Series is Stationary.\n",
            "\n",
            "\n",
            " => P-Value = 0.0. Rejecting Null Hypothesis.\n",
            " => Series is Stationary.\n",
            "\n",
            "\n"
          ]
        }
      ],
      "source": [
        "for name, column in train_data_diff.items():\n",
        "    adfuller_test(column, name=column.name)\n",
        "    print('\\n')"
      ]
    },
    {
      "cell_type": "code",
      "execution_count": 87,
      "metadata": {},
      "outputs": [
        {
          "name": "stderr",
          "output_type": "stream",
          "text": [
            "d:\\anaconda3\\Lib\\site-packages\\statsmodels\\tsa\\stattools.py:1488: FutureWarning: verbose is deprecated since functions should not print results\n",
            "  warnings.warn(\n",
            "d:\\anaconda3\\Lib\\site-packages\\statsmodels\\tsa\\stattools.py:1488: FutureWarning: verbose is deprecated since functions should not print results\n",
            "  warnings.warn(\n",
            "d:\\anaconda3\\Lib\\site-packages\\statsmodels\\tsa\\stattools.py:1488: FutureWarning: verbose is deprecated since functions should not print results\n",
            "  warnings.warn(\n",
            "d:\\anaconda3\\Lib\\site-packages\\statsmodels\\base\\model.py:1888: ValueWarning: covariance of constraints does not have full rank. The number of constraints is 3, but rank is 1\n",
            "  warnings.warn('covariance of constraints does not have full '\n",
            "d:\\anaconda3\\Lib\\site-packages\\statsmodels\\base\\model.py:1888: ValueWarning: covariance of constraints does not have full rank. The number of constraints is 4, but rank is 2\n",
            "  warnings.warn('covariance of constraints does not have full '\n",
            "d:\\anaconda3\\Lib\\site-packages\\statsmodels\\base\\model.py:1888: ValueWarning: covariance of constraints does not have full rank. The number of constraints is 5, but rank is 3\n",
            "  warnings.warn('covariance of constraints does not have full '\n",
            "d:\\anaconda3\\Lib\\site-packages\\statsmodels\\base\\model.py:1888: ValueWarning: covariance of constraints does not have full rank. The number of constraints is 6, but rank is 4\n",
            "  warnings.warn('covariance of constraints does not have full '\n",
            "d:\\anaconda3\\Lib\\site-packages\\statsmodels\\base\\model.py:1888: ValueWarning: covariance of constraints does not have full rank. The number of constraints is 7, but rank is 5\n",
            "  warnings.warn('covariance of constraints does not have full '\n",
            "d:\\anaconda3\\Lib\\site-packages\\statsmodels\\base\\model.py:1888: ValueWarning: covariance of constraints does not have full rank. The number of constraints is 8, but rank is 6\n",
            "  warnings.warn('covariance of constraints does not have full '\n",
            "d:\\anaconda3\\Lib\\site-packages\\statsmodels\\base\\model.py:1888: ValueWarning: covariance of constraints does not have full rank. The number of constraints is 9, but rank is 7\n",
            "  warnings.warn('covariance of constraints does not have full '\n",
            "d:\\anaconda3\\Lib\\site-packages\\statsmodels\\base\\model.py:1888: ValueWarning: covariance of constraints does not have full rank. The number of constraints is 10, but rank is 8\n",
            "  warnings.warn('covariance of constraints does not have full '\n",
            "d:\\anaconda3\\Lib\\site-packages\\statsmodels\\base\\model.py:1888: ValueWarning: covariance of constraints does not have full rank. The number of constraints is 11, but rank is 9\n",
            "  warnings.warn('covariance of constraints does not have full '\n",
            "d:\\anaconda3\\Lib\\site-packages\\statsmodels\\base\\model.py:1888: ValueWarning: covariance of constraints does not have full rank. The number of constraints is 12, but rank is 10\n",
            "  warnings.warn('covariance of constraints does not have full '\n",
            "d:\\anaconda3\\Lib\\site-packages\\statsmodels\\tsa\\stattools.py:1488: FutureWarning: verbose is deprecated since functions should not print results\n",
            "  warnings.warn(\n",
            "d:\\anaconda3\\Lib\\site-packages\\statsmodels\\base\\model.py:1888: ValueWarning: covariance of constraints does not have full rank. The number of constraints is 4, but rank is 2\n",
            "  warnings.warn('covariance of constraints does not have full '\n",
            "d:\\anaconda3\\Lib\\site-packages\\statsmodels\\base\\model.py:1888: ValueWarning: covariance of constraints does not have full rank. The number of constraints is 5, but rank is 3\n",
            "  warnings.warn('covariance of constraints does not have full '\n",
            "d:\\anaconda3\\Lib\\site-packages\\statsmodels\\base\\model.py:1888: ValueWarning: covariance of constraints does not have full rank. The number of constraints is 6, but rank is 3\n",
            "  warnings.warn('covariance of constraints does not have full '\n",
            "d:\\anaconda3\\Lib\\site-packages\\statsmodels\\base\\model.py:1888: ValueWarning: covariance of constraints does not have full rank. The number of constraints is 7, but rank is 4\n",
            "  warnings.warn('covariance of constraints does not have full '\n",
            "d:\\anaconda3\\Lib\\site-packages\\statsmodels\\base\\model.py:1888: ValueWarning: covariance of constraints does not have full rank. The number of constraints is 8, but rank is 5\n",
            "  warnings.warn('covariance of constraints does not have full '\n",
            "d:\\anaconda3\\Lib\\site-packages\\statsmodels\\base\\model.py:1888: ValueWarning: covariance of constraints does not have full rank. The number of constraints is 9, but rank is 6\n",
            "  warnings.warn('covariance of constraints does not have full '\n",
            "d:\\anaconda3\\Lib\\site-packages\\statsmodels\\base\\model.py:1888: ValueWarning: covariance of constraints does not have full rank. The number of constraints is 10, but rank is 7\n",
            "  warnings.warn('covariance of constraints does not have full '\n",
            "d:\\anaconda3\\Lib\\site-packages\\statsmodels\\base\\model.py:1888: ValueWarning: covariance of constraints does not have full rank. The number of constraints is 11, but rank is 8\n",
            "  warnings.warn('covariance of constraints does not have full '\n",
            "d:\\anaconda3\\Lib\\site-packages\\statsmodels\\base\\model.py:1888: ValueWarning: covariance of constraints does not have full rank. The number of constraints is 12, but rank is 9\n",
            "  warnings.warn('covariance of constraints does not have full '\n",
            "d:\\anaconda3\\Lib\\site-packages\\statsmodels\\tsa\\stattools.py:1488: FutureWarning: verbose is deprecated since functions should not print results\n",
            "  warnings.warn(\n",
            "d:\\anaconda3\\Lib\\site-packages\\statsmodels\\tsa\\stattools.py:1488: FutureWarning: verbose is deprecated since functions should not print results\n",
            "  warnings.warn(\n",
            "d:\\anaconda3\\Lib\\site-packages\\statsmodels\\tsa\\stattools.py:1488: FutureWarning: verbose is deprecated since functions should not print results\n",
            "  warnings.warn(\n",
            "d:\\anaconda3\\Lib\\site-packages\\statsmodels\\tsa\\stattools.py:1488: FutureWarning: verbose is deprecated since functions should not print results\n",
            "  warnings.warn(\n",
            "d:\\anaconda3\\Lib\\site-packages\\statsmodels\\tsa\\stattools.py:1488: FutureWarning: verbose is deprecated since functions should not print results\n",
            "  warnings.warn(\n",
            "d:\\anaconda3\\Lib\\site-packages\\statsmodels\\tsa\\stattools.py:1488: FutureWarning: verbose is deprecated since functions should not print results\n",
            "  warnings.warn(\n",
            "d:\\anaconda3\\Lib\\site-packages\\statsmodels\\tsa\\stattools.py:1488: FutureWarning: verbose is deprecated since functions should not print results\n",
            "  warnings.warn(\n",
            "d:\\anaconda3\\Lib\\site-packages\\statsmodels\\base\\model.py:1888: ValueWarning: covariance of constraints does not have full rank. The number of constraints is 3, but rank is 1\n",
            "  warnings.warn('covariance of constraints does not have full '\n",
            "d:\\anaconda3\\Lib\\site-packages\\statsmodels\\base\\model.py:1888: ValueWarning: covariance of constraints does not have full rank. The number of constraints is 4, but rank is 2\n",
            "  warnings.warn('covariance of constraints does not have full '\n",
            "d:\\anaconda3\\Lib\\site-packages\\statsmodels\\base\\model.py:1888: ValueWarning: covariance of constraints does not have full rank. The number of constraints is 5, but rank is 3\n",
            "  warnings.warn('covariance of constraints does not have full '\n",
            "d:\\anaconda3\\Lib\\site-packages\\statsmodels\\base\\model.py:1888: ValueWarning: covariance of constraints does not have full rank. The number of constraints is 6, but rank is 4\n",
            "  warnings.warn('covariance of constraints does not have full '\n",
            "d:\\anaconda3\\Lib\\site-packages\\statsmodels\\base\\model.py:1888: ValueWarning: covariance of constraints does not have full rank. The number of constraints is 7, but rank is 5\n",
            "  warnings.warn('covariance of constraints does not have full '\n",
            "d:\\anaconda3\\Lib\\site-packages\\statsmodels\\base\\model.py:1888: ValueWarning: covariance of constraints does not have full rank. The number of constraints is 8, but rank is 6\n",
            "  warnings.warn('covariance of constraints does not have full '\n",
            "d:\\anaconda3\\Lib\\site-packages\\statsmodels\\base\\model.py:1888: ValueWarning: covariance of constraints does not have full rank. The number of constraints is 9, but rank is 7\n",
            "  warnings.warn('covariance of constraints does not have full '\n",
            "d:\\anaconda3\\Lib\\site-packages\\statsmodels\\base\\model.py:1888: ValueWarning: covariance of constraints does not have full rank. The number of constraints is 10, but rank is 8\n",
            "  warnings.warn('covariance of constraints does not have full '\n",
            "d:\\anaconda3\\Lib\\site-packages\\statsmodels\\base\\model.py:1888: ValueWarning: covariance of constraints does not have full rank. The number of constraints is 11, but rank is 9\n",
            "  warnings.warn('covariance of constraints does not have full '\n",
            "d:\\anaconda3\\Lib\\site-packages\\statsmodels\\base\\model.py:1888: ValueWarning: covariance of constraints does not have full rank. The number of constraints is 12, but rank is 10\n",
            "  warnings.warn('covariance of constraints does not have full '\n",
            "d:\\anaconda3\\Lib\\site-packages\\statsmodels\\tsa\\stattools.py:1488: FutureWarning: verbose is deprecated since functions should not print results\n",
            "  warnings.warn(\n",
            "d:\\anaconda3\\Lib\\site-packages\\statsmodels\\tsa\\stattools.py:1488: FutureWarning: verbose is deprecated since functions should not print results\n",
            "  warnings.warn(\n",
            "d:\\anaconda3\\Lib\\site-packages\\statsmodels\\tsa\\stattools.py:1488: FutureWarning: verbose is deprecated since functions should not print results\n",
            "  warnings.warn(\n",
            "d:\\anaconda3\\Lib\\site-packages\\statsmodels\\base\\model.py:1888: ValueWarning: covariance of constraints does not have full rank. The number of constraints is 2, but rank is 1\n",
            "  warnings.warn('covariance of constraints does not have full '\n",
            "d:\\anaconda3\\Lib\\site-packages\\statsmodels\\base\\model.py:1888: ValueWarning: covariance of constraints does not have full rank. The number of constraints is 3, but rank is 2\n",
            "  warnings.warn('covariance of constraints does not have full '\n",
            "d:\\anaconda3\\Lib\\site-packages\\statsmodels\\base\\model.py:1888: ValueWarning: covariance of constraints does not have full rank. The number of constraints is 4, but rank is 3\n",
            "  warnings.warn('covariance of constraints does not have full '\n",
            "d:\\anaconda3\\Lib\\site-packages\\statsmodels\\base\\model.py:1888: ValueWarning: covariance of constraints does not have full rank. The number of constraints is 5, but rank is 4\n",
            "  warnings.warn('covariance of constraints does not have full '\n",
            "d:\\anaconda3\\Lib\\site-packages\\statsmodels\\base\\model.py:1888: ValueWarning: covariance of constraints does not have full rank. The number of constraints is 6, but rank is 5\n",
            "  warnings.warn('covariance of constraints does not have full '\n",
            "d:\\anaconda3\\Lib\\site-packages\\statsmodels\\base\\model.py:1888: ValueWarning: covariance of constraints does not have full rank. The number of constraints is 7, but rank is 6\n",
            "  warnings.warn('covariance of constraints does not have full '\n",
            "d:\\anaconda3\\Lib\\site-packages\\statsmodels\\base\\model.py:1888: ValueWarning: covariance of constraints does not have full rank. The number of constraints is 8, but rank is 7\n",
            "  warnings.warn('covariance of constraints does not have full '\n",
            "d:\\anaconda3\\Lib\\site-packages\\statsmodels\\base\\model.py:1888: ValueWarning: covariance of constraints does not have full rank. The number of constraints is 9, but rank is 8\n",
            "  warnings.warn('covariance of constraints does not have full '\n",
            "d:\\anaconda3\\Lib\\site-packages\\statsmodels\\base\\model.py:1888: ValueWarning: covariance of constraints does not have full rank. The number of constraints is 10, but rank is 9\n",
            "  warnings.warn('covariance of constraints does not have full '\n",
            "d:\\anaconda3\\Lib\\site-packages\\statsmodels\\base\\model.py:1888: ValueWarning: covariance of constraints does not have full rank. The number of constraints is 11, but rank is 10\n",
            "  warnings.warn('covariance of constraints does not have full '\n",
            "d:\\anaconda3\\Lib\\site-packages\\statsmodels\\base\\model.py:1888: ValueWarning: covariance of constraints does not have full rank. The number of constraints is 12, but rank is 11\n",
            "  warnings.warn('covariance of constraints does not have full '\n",
            "d:\\anaconda3\\Lib\\site-packages\\statsmodels\\tsa\\stattools.py:1488: FutureWarning: verbose is deprecated since functions should not print results\n",
            "  warnings.warn(\n",
            "d:\\anaconda3\\Lib\\site-packages\\statsmodels\\tsa\\stattools.py:1488: FutureWarning: verbose is deprecated since functions should not print results\n",
            "  warnings.warn(\n",
            "d:\\anaconda3\\Lib\\site-packages\\statsmodels\\base\\model.py:1888: ValueWarning: covariance of constraints does not have full rank. The number of constraints is 4, but rank is 1\n",
            "  warnings.warn('covariance of constraints does not have full '\n",
            "d:\\anaconda3\\Lib\\site-packages\\statsmodels\\base\\model.py:1888: ValueWarning: covariance of constraints does not have full rank. The number of constraints is 5, but rank is 2\n",
            "  warnings.warn('covariance of constraints does not have full '\n",
            "d:\\anaconda3\\Lib\\site-packages\\statsmodels\\base\\model.py:1888: ValueWarning: covariance of constraints does not have full rank. The number of constraints is 6, but rank is 3\n",
            "  warnings.warn('covariance of constraints does not have full '\n",
            "d:\\anaconda3\\Lib\\site-packages\\statsmodels\\base\\model.py:1888: ValueWarning: covariance of constraints does not have full rank. The number of constraints is 7, but rank is 4\n",
            "  warnings.warn('covariance of constraints does not have full '\n",
            "d:\\anaconda3\\Lib\\site-packages\\statsmodels\\base\\model.py:1888: ValueWarning: covariance of constraints does not have full rank. The number of constraints is 8, but rank is 5\n",
            "  warnings.warn('covariance of constraints does not have full '\n",
            "d:\\anaconda3\\Lib\\site-packages\\statsmodels\\base\\model.py:1888: ValueWarning: covariance of constraints does not have full rank. The number of constraints is 9, but rank is 6\n",
            "  warnings.warn('covariance of constraints does not have full '\n",
            "d:\\anaconda3\\Lib\\site-packages\\statsmodels\\base\\model.py:1888: ValueWarning: covariance of constraints does not have full rank. The number of constraints is 10, but rank is 7\n",
            "  warnings.warn('covariance of constraints does not have full '\n",
            "d:\\anaconda3\\Lib\\site-packages\\statsmodels\\base\\model.py:1888: ValueWarning: covariance of constraints does not have full rank. The number of constraints is 11, but rank is 8\n",
            "  warnings.warn('covariance of constraints does not have full '\n",
            "d:\\anaconda3\\Lib\\site-packages\\statsmodels\\base\\model.py:1888: ValueWarning: covariance of constraints does not have full rank. The number of constraints is 12, but rank is 9\n",
            "  warnings.warn('covariance of constraints does not have full '\n",
            "d:\\anaconda3\\Lib\\site-packages\\statsmodels\\tsa\\stattools.py:1488: FutureWarning: verbose is deprecated since functions should not print results\n",
            "  warnings.warn(\n",
            "d:\\anaconda3\\Lib\\site-packages\\statsmodels\\tsa\\stattools.py:1488: FutureWarning: verbose is deprecated since functions should not print results\n",
            "  warnings.warn(\n",
            "d:\\anaconda3\\Lib\\site-packages\\statsmodels\\base\\model.py:1888: ValueWarning: covariance of constraints does not have full rank. The number of constraints is 2, but rank is 1\n",
            "  warnings.warn('covariance of constraints does not have full '\n",
            "d:\\anaconda3\\Lib\\site-packages\\statsmodels\\base\\model.py:1888: ValueWarning: covariance of constraints does not have full rank. The number of constraints is 3, but rank is 2\n",
            "  warnings.warn('covariance of constraints does not have full '\n",
            "d:\\anaconda3\\Lib\\site-packages\\statsmodels\\base\\model.py:1888: ValueWarning: covariance of constraints does not have full rank. The number of constraints is 4, but rank is 3\n",
            "  warnings.warn('covariance of constraints does not have full '\n",
            "d:\\anaconda3\\Lib\\site-packages\\statsmodels\\base\\model.py:1888: ValueWarning: covariance of constraints does not have full rank. The number of constraints is 5, but rank is 4\n",
            "  warnings.warn('covariance of constraints does not have full '\n",
            "d:\\anaconda3\\Lib\\site-packages\\statsmodels\\base\\model.py:1888: ValueWarning: covariance of constraints does not have full rank. The number of constraints is 6, but rank is 5\n",
            "  warnings.warn('covariance of constraints does not have full '\n",
            "d:\\anaconda3\\Lib\\site-packages\\statsmodels\\base\\model.py:1888: ValueWarning: covariance of constraints does not have full rank. The number of constraints is 7, but rank is 6\n",
            "  warnings.warn('covariance of constraints does not have full '\n",
            "d:\\anaconda3\\Lib\\site-packages\\statsmodels\\base\\model.py:1888: ValueWarning: covariance of constraints does not have full rank. The number of constraints is 8, but rank is 7\n",
            "  warnings.warn('covariance of constraints does not have full '\n",
            "d:\\anaconda3\\Lib\\site-packages\\statsmodels\\base\\model.py:1888: ValueWarning: covariance of constraints does not have full rank. The number of constraints is 9, but rank is 8\n",
            "  warnings.warn('covariance of constraints does not have full '\n",
            "d:\\anaconda3\\Lib\\site-packages\\statsmodels\\base\\model.py:1888: ValueWarning: covariance of constraints does not have full rank. The number of constraints is 10, but rank is 9\n",
            "  warnings.warn('covariance of constraints does not have full '\n",
            "d:\\anaconda3\\Lib\\site-packages\\statsmodels\\base\\model.py:1888: ValueWarning: covariance of constraints does not have full rank. The number of constraints is 11, but rank is 10\n",
            "  warnings.warn('covariance of constraints does not have full '\n",
            "d:\\anaconda3\\Lib\\site-packages\\statsmodels\\base\\model.py:1888: ValueWarning: covariance of constraints does not have full rank. The number of constraints is 12, but rank is 11\n",
            "  warnings.warn('covariance of constraints does not have full '\n",
            "d:\\anaconda3\\Lib\\site-packages\\statsmodels\\tsa\\stattools.py:1488: FutureWarning: verbose is deprecated since functions should not print results\n",
            "  warnings.warn(\n",
            "d:\\anaconda3\\Lib\\site-packages\\statsmodels\\tsa\\stattools.py:1488: FutureWarning: verbose is deprecated since functions should not print results\n",
            "  warnings.warn(\n",
            "d:\\anaconda3\\Lib\\site-packages\\statsmodels\\tsa\\stattools.py:1488: FutureWarning: verbose is deprecated since functions should not print results\n",
            "  warnings.warn(\n",
            "d:\\anaconda3\\Lib\\site-packages\\statsmodels\\tsa\\stattools.py:1488: FutureWarning: verbose is deprecated since functions should not print results\n",
            "  warnings.warn(\n",
            "d:\\anaconda3\\Lib\\site-packages\\statsmodels\\tsa\\stattools.py:1488: FutureWarning: verbose is deprecated since functions should not print results\n",
            "  warnings.warn(\n",
            "d:\\anaconda3\\Lib\\site-packages\\statsmodels\\tsa\\stattools.py:1488: FutureWarning: verbose is deprecated since functions should not print results\n",
            "  warnings.warn(\n",
            "d:\\anaconda3\\Lib\\site-packages\\statsmodels\\tsa\\stattools.py:1488: FutureWarning: verbose is deprecated since functions should not print results\n",
            "  warnings.warn(\n"
          ]
        },
        {
          "data": {
            "text/html": [
              "<div>\n",
              "<style scoped>\n",
              "    .dataframe tbody tr th:only-of-type {\n",
              "        vertical-align: middle;\n",
              "    }\n",
              "\n",
              "    .dataframe tbody tr th {\n",
              "        vertical-align: top;\n",
              "    }\n",
              "\n",
              "    .dataframe thead th {\n",
              "        text-align: right;\n",
              "    }\n",
              "</style>\n",
              "<table border=\"1\" class=\"dataframe\">\n",
              "  <thead>\n",
              "    <tr style=\"text-align: right;\">\n",
              "      <th></th>\n",
              "      <th>Close_x</th>\n",
              "      <th>SMA_x</th>\n",
              "      <th>MACD_x</th>\n",
              "      <th>Signal_Line_x</th>\n",
              "      <th>RSI_x</th>\n",
              "    </tr>\n",
              "  </thead>\n",
              "  <tbody>\n",
              "    <tr>\n",
              "      <th>Close_y</th>\n",
              "      <td>1.0000</td>\n",
              "      <td>0.0385</td>\n",
              "      <td>0.0166</td>\n",
              "      <td>0.0171</td>\n",
              "      <td>0.0482</td>\n",
              "    </tr>\n",
              "    <tr>\n",
              "      <th>SMA_y</th>\n",
              "      <td>0.0001</td>\n",
              "      <td>1.0000</td>\n",
              "      <td>0.0000</td>\n",
              "      <td>0.0000</td>\n",
              "      <td>0.0000</td>\n",
              "    </tr>\n",
              "    <tr>\n",
              "      <th>MACD_y</th>\n",
              "      <td>0.0000</td>\n",
              "      <td>0.0000</td>\n",
              "      <td>1.0000</td>\n",
              "      <td>0.0000</td>\n",
              "      <td>0.0000</td>\n",
              "    </tr>\n",
              "    <tr>\n",
              "      <th>Signal_Line_y</th>\n",
              "      <td>0.0000</td>\n",
              "      <td>0.0000</td>\n",
              "      <td>0.0000</td>\n",
              "      <td>1.0000</td>\n",
              "      <td>0.0000</td>\n",
              "    </tr>\n",
              "    <tr>\n",
              "      <th>RSI_y</th>\n",
              "      <td>0.0000</td>\n",
              "      <td>0.0001</td>\n",
              "      <td>0.0000</td>\n",
              "      <td>0.0000</td>\n",
              "      <td>1.0000</td>\n",
              "    </tr>\n",
              "  </tbody>\n",
              "</table>\n",
              "</div>"
            ],
            "text/plain": [
              "               Close_x   SMA_x  MACD_x  Signal_Line_x   RSI_x\n",
              "Close_y         1.0000  0.0385  0.0166         0.0171  0.0482\n",
              "SMA_y           0.0001  1.0000  0.0000         0.0000  0.0000\n",
              "MACD_y          0.0000  0.0000  1.0000         0.0000  0.0000\n",
              "Signal_Line_y   0.0000  0.0000  0.0000         1.0000  0.0000\n",
              "RSI_y           0.0000  0.0001  0.0000         0.0000  1.0000"
            ]
          },
          "execution_count": 87,
          "metadata": {},
          "output_type": "execute_result"
        }
      ],
      "source": [
        "grangers_causation_matrix(train_data_diff, variables = data.columns)"
      ]
    },
    {
      "cell_type": "markdown",
      "metadata": {
        "id": "vQl7NVfVTGUd"
      },
      "source": [
        "# Huấn luyện mô hình"
      ]
    },
    {
      "cell_type": "code",
      "execution_count": 88,
      "metadata": {
        "colab": {
          "base_uri": "https://localhost:8080/",
          "height": 403
        },
        "id": "V3XGJuWKTJUx",
        "outputId": "5a02938e-e19e-41b8-ebda-efe888f831c8"
      },
      "outputs": [
        {
          "name": "stderr",
          "output_type": "stream",
          "text": [
            "d:\\anaconda3\\Lib\\site-packages\\statsmodels\\tsa\\base\\tsa_model.py:473: ValueWarning: A date index has been provided, but it has no associated frequency information and so will be ignored when e.g. forecasting.\n",
            "  self._init_dates(dates, freq)\n"
          ]
        },
        {
          "data": {
            "text/html": [
              "<table class=\"simpletable\">\n",
              "<caption>VAR Order Selection (* highlights the minimums)</caption>\n",
              "<tr>\n",
              "   <td></td>      <th>AIC</th>         <th>BIC</th>         <th>FPE</th>        <th>HQIC</th>    \n",
              "</tr>\n",
              "<tr>\n",
              "  <th>0</th>  <td>     35.44</td>  <td>     35.46</td>  <td> 2.467e+15</td>  <td>     35.45</td> \n",
              "</tr>\n",
              "<tr>\n",
              "  <th>1</th>  <td>    -13.38</td>  <td>    -13.25</td>  <td> 1.548e-06</td>  <td>    -13.33</td> \n",
              "</tr>\n",
              "<tr>\n",
              "  <th>2</th>  <td>    -47.08*</td> <td>    -46.85*</td> <td> 3.572e-21*</td> <td>    -46.99*</td>\n",
              "</tr>\n",
              "<tr>\n",
              "  <th>3</th>  <td>    -41.15</td>  <td>    -40.81</td>  <td> 1.348e-18</td>  <td>    -41.02</td> \n",
              "</tr>\n",
              "<tr>\n",
              "  <th>4</th>  <td>    -40.24</td>  <td>    -39.80</td>  <td> 3.328e-18</td>  <td>    -40.08</td> \n",
              "</tr>\n",
              "<tr>\n",
              "  <th>5</th>  <td>    -37.93</td>  <td>    -37.38</td>  <td> 3.352e-17</td>  <td>    -37.73</td> \n",
              "</tr>\n",
              "<tr>\n",
              "  <th>6</th>  <td>    -38.00</td>  <td>    -37.34</td>  <td> 3.144e-17</td>  <td>    -37.75</td> \n",
              "</tr>\n",
              "<tr>\n",
              "  <th>7</th>  <td>    -37.55</td>  <td>    -36.79</td>  <td> 4.941e-17</td>  <td>    -37.26</td> \n",
              "</tr>\n",
              "<tr>\n",
              "  <th>8</th>  <td>    -36.92</td>  <td>    -36.05</td>  <td> 9.250e-17</td>  <td>    -36.59</td> \n",
              "</tr>\n",
              "<tr>\n",
              "  <th>9</th>  <td>    -37.59</td>  <td>    -36.61</td>  <td> 4.752e-17</td>  <td>    -37.22</td> \n",
              "</tr>\n",
              "<tr>\n",
              "  <th>10</th> <td>    -35.54</td>  <td>    -34.47</td>  <td> 3.663e-16</td>  <td>    -35.14</td> \n",
              "</tr>\n",
              "<tr>\n",
              "  <th>11</th> <td>    -34.66</td>  <td>    -33.48</td>  <td> 8.826e-16</td>  <td>    -34.22</td> \n",
              "</tr>\n",
              "<tr>\n",
              "  <th>12</th> <td>    -34.31</td>  <td>    -33.02</td>  <td> 1.254e-15</td>  <td>    -33.83</td> \n",
              "</tr>\n",
              "</table>"
            ],
            "text/latex": [
              "\\begin{center}\n",
              "\\begin{tabular}{lcccc}\n",
              "\\toprule\n",
              "            & \\textbf{AIC} & \\textbf{BIC} & \\textbf{FPE} & \\textbf{HQIC}  \\\\\n",
              "\\midrule\n",
              "\\textbf{0}  &       35.44  &       35.46  &   2.467e+15  &        35.45   \\\\\n",
              "\\textbf{1}  &      -13.38  &      -13.25  &   1.548e-06  &       -13.33   \\\\\n",
              "\\textbf{2}  &     -47.08*  &     -46.85*  &  3.572e-21*  &      -46.99*   \\\\\n",
              "\\textbf{3}  &      -41.15  &      -40.81  &   1.348e-18  &       -41.02   \\\\\n",
              "\\textbf{4}  &      -40.24  &      -39.80  &   3.328e-18  &       -40.08   \\\\\n",
              "\\textbf{5}  &      -37.93  &      -37.38  &   3.352e-17  &       -37.73   \\\\\n",
              "\\textbf{6}  &      -38.00  &      -37.34  &   3.144e-17  &       -37.75   \\\\\n",
              "\\textbf{7}  &      -37.55  &      -36.79  &   4.941e-17  &       -37.26   \\\\\n",
              "\\textbf{8}  &      -36.92  &      -36.05  &   9.250e-17  &       -36.59   \\\\\n",
              "\\textbf{9}  &      -37.59  &      -36.61  &   4.752e-17  &       -37.22   \\\\\n",
              "\\textbf{10} &      -35.54  &      -34.47  &   3.663e-16  &       -35.14   \\\\\n",
              "\\textbf{11} &      -34.66  &      -33.48  &   8.826e-16  &       -34.22   \\\\\n",
              "\\textbf{12} &      -34.31  &      -33.02  &   1.254e-15  &       -33.83   \\\\\n",
              "\\bottomrule\n",
              "\\end{tabular}\n",
              "%\\caption{VAR Order Selection (* highlights the minimums)}\n",
              "\\end{center}"
            ],
            "text/plain": [
              "<class 'statsmodels.iolib.table.SimpleTable'>"
            ]
          },
          "execution_count": 88,
          "metadata": {},
          "output_type": "execute_result"
        }
      ],
      "source": [
        "model = VAR(train_data_diff)\n",
        "x = model.select_order(maxlags=12)\n",
        "x.summary()"
      ]
    },
    {
      "cell_type": "code",
      "execution_count": 89,
      "metadata": {
        "colab": {
          "base_uri": "https://localhost:8080/"
        },
        "id": "U7YMz2TnUWPe",
        "outputId": "e2bf7bae-7b67-4eee-d21a-424bb3e339d6"
      },
      "outputs": [
        {
          "data": {
            "text/plain": [
              "  Summary of Regression Results   \n",
              "==================================\n",
              "Model:                         VAR\n",
              "Method:                        OLS\n",
              "Date:           Wed, 19, Jun, 2024\n",
              "Time:                     21:48:03\n",
              "--------------------------------------------------------------------\n",
              "No. of Equations:         5.00000    BIC:                   -46.2914\n",
              "Nobs:                     1215.00    HQIC:                  -46.4354\n",
              "Log likelihood:           19697.3    FPE:                6.24571e-21\n",
              "AIC:                     -46.5224    Det(Omega_mle):     5.74510e-21\n",
              "--------------------------------------------------------------------\n",
              "Results for equation Close\n",
              "===================================================================================\n",
              "                      coefficient       std. error           t-stat            prob\n",
              "-----------------------------------------------------------------------------------\n",
              "const                    1.963884        28.113317            0.070           0.944\n",
              "L1.Close                -0.045536         0.080946           -0.563           0.574\n",
              "L1.SMA                  -0.292544         0.648658           -0.451           0.652\n",
              "L1.MACD          -34157917.789437    526069.339632          -64.930           0.000\n",
              "L1.Signal_Line   170789584.470432   2630346.696356           64.930           0.000\n",
              "L1.RSI                   1.433844         0.846122            1.695           0.090\n",
              "L2.Close                 0.054280         0.048887            1.110           0.267\n",
              "L2.SMA                   0.890286         0.616771            1.443           0.149\n",
              "L2.MACD                  0.740407         0.926437            0.799           0.424\n",
              "L2.Signal_Line  -136631667.560964   2104277.357174          -64.930           0.000\n",
              "L2.RSI                  -1.359622         0.831725           -1.635           0.102\n",
              "===================================================================================\n",
              "\n",
              "Results for equation SMA\n",
              "==================================================================================\n",
              "                     coefficient       std. error           t-stat            prob\n",
              "----------------------------------------------------------------------------------\n",
              "const                  -1.415996         1.864047           -0.760           0.447\n",
              "L1.Close                0.019885         0.005367            3.705           0.000\n",
              "L1.SMA                  0.675159         0.043009           15.698           0.000\n",
              "L1.MACD          -2904051.178789     34880.900924          -83.256           0.000\n",
              "L1.Signal_Line   14520255.394601    174404.504498           83.256           0.000\n",
              "L1.RSI                 -0.013807         0.056102           -0.246           0.806\n",
              "L2.Close                0.008179         0.003241            2.523           0.012\n",
              "L2.SMA                  0.068971         0.040895            1.687           0.092\n",
              "L2.MACD                 0.212400         0.061427            3.458           0.001\n",
              "L2.Signal_Line  -11616204.407302    139523.603604          -83.256           0.000\n",
              "L2.RSI                  0.046005         0.055147            0.834           0.404\n",
              "==================================================================================\n",
              "\n",
              "Results for equation MACD\n",
              "==================================================================================\n",
              "                     coefficient       std. error           t-stat            prob\n",
              "----------------------------------------------------------------------------------\n",
              "const                   0.156663         2.242658            0.070           0.944\n",
              "L1.Close               -0.003632         0.006457           -0.563           0.574\n",
              "L1.SMA                 -0.023337         0.051745           -0.451           0.652\n",
              "L1.MACD          -2724846.407972     41965.645335          -64.930           0.000\n",
              "L1.Signal_Line   13624240.543138    209828.226531           64.930           0.000\n",
              "L1.RSI                  0.114381         0.067497            1.695           0.090\n",
              "L2.Close                0.004330         0.003900            1.110           0.267\n",
              "L2.SMA                  0.071020         0.049201            1.443           0.149\n",
              "L2.MACD                -0.724412         0.073904           -9.802           0.000\n",
              "L2.Signal_Line  -10899392.433284    167862.581232          -64.930           0.000\n",
              "L2.RSI                 -0.108460         0.066348           -1.635           0.102\n",
              "==================================================================================\n",
              "\n",
              "Results for equation Signal_Line\n",
              "=================================================================================\n",
              "                    coefficient       std. error           t-stat            prob\n",
              "---------------------------------------------------------------------------------\n",
              "const                  0.031333         0.448532            0.070           0.944\n",
              "L1.Close              -0.000726         0.001291           -0.563           0.574\n",
              "L1.SMA                -0.004667         0.010349           -0.451           0.652\n",
              "L1.MACD          -544969.180472      8393.129065          -64.930           0.000\n",
              "L1.Signal_Line   2724848.403015     41965.645294           64.930           0.000\n",
              "L1.RSI                 0.022876         0.013499            1.695           0.090\n",
              "L2.Close               0.000866         0.000780            1.110           0.267\n",
              "L2.SMA                 0.014204         0.009840            1.443           0.149\n",
              "L2.MACD               -0.144882         0.014781           -9.802           0.000\n",
              "L2.Signal_Line  -2179878.082167     33572.516237          -64.930           0.000\n",
              "L2.RSI                -0.021692         0.013270           -1.635           0.102\n",
              "=================================================================================\n",
              "\n",
              "Results for equation RSI\n",
              "==================================================================================\n",
              "                     coefficient       std. error           t-stat            prob\n",
              "----------------------------------------------------------------------------------\n",
              "const                  12.207411         1.282476            9.519           0.000\n",
              "L1.Close                0.005634         0.003693            1.526           0.127\n",
              "L1.SMA                 -0.041464         0.029591           -1.401           0.161\n",
              "L1.MACD          -3253882.937195     23998.285303         -135.588           0.000\n",
              "L1.Signal_Line   16269414.774228    119991.426431          135.588           0.000\n",
              "L1.RSI                  0.863677         0.038598           22.376           0.000\n",
              "L2.Close                0.005764         0.002230            2.585           0.010\n",
              "L2.SMA                 -0.008862         0.028136           -0.315           0.753\n",
              "L2.MACD                 0.047389         0.042262            1.121           0.262\n",
              "L2.Signal_Line  -13015531.870785     95993.141149         -135.588           0.000\n",
              "L2.RSI                 -0.090999         0.037942           -2.398           0.016\n",
              "==================================================================================\n",
              "\n",
              "Correlation matrix of residuals\n",
              "                  Close       SMA      MACD  Signal_Line       RSI\n",
              "Close          1.000000  0.741741  1.000000     1.000000  0.662776\n",
              "SMA            0.741741  1.000000  0.741741     0.741741  0.428669\n",
              "MACD           1.000000  0.741741  1.000000     1.000000  0.662776\n",
              "Signal_Line    1.000000  0.741741  1.000000     1.000000  0.662776\n",
              "RSI            0.662776  0.428669  0.662776     0.662776  1.000000\n",
              "\n"
            ]
          },
          "execution_count": 89,
          "metadata": {},
          "output_type": "execute_result"
        }
      ],
      "source": [
        "model_train = model.fit(2)\n",
        "model_train.summary()"
      ]
    },
    {
      "cell_type": "markdown",
      "metadata": {
        "id": "jOGMp3pPVh5s"
      },
      "source": [
        "# Kiểm tra tương quan phần dư"
      ]
    },
    {
      "cell_type": "markdown",
      "metadata": {
        "id": "LoZI7FGvVmyI"
      },
      "source": [
        "Sử dụng kiểm định Durbin Watson\n",
        "Nếu có tương quan (giá trị gần 0 hoặc 4) cần tăng bậc mô hình hoặc đổi mô hình.\n",
        "Nếu gần 2 thì không có tương quan"
      ]
    },
    {
      "cell_type": "code",
      "execution_count": 90,
      "metadata": {
        "id": "TqWHA3RXVcDs"
      },
      "outputs": [],
      "source": [
        "from statsmodels.stats.stattools import durbin_watson"
      ]
    },
    {
      "cell_type": "code",
      "execution_count": 91,
      "metadata": {
        "colab": {
          "base_uri": "https://localhost:8080/"
        },
        "id": "Bz9RzK7hV8Yg",
        "outputId": "de94e807-8d25-45da-f4da-bb1787fff116"
      },
      "outputs": [
        {
          "name": "stdout",
          "output_type": "stream",
          "text": [
            "Close  : 2.0\n",
            "SMA    : 2.01\n",
            "MACD   : 2.0\n",
            "Signal_Line : 2.0\n",
            "RSI    : 2.02\n"
          ]
        }
      ],
      "source": [
        "def adjust(val, length= 6): return str(val).ljust(length)\n",
        "residual = durbin_watson(model_train.resid)\n",
        "\n",
        "for col, val in zip(data.columns, residual):\n",
        "    print(adjust(col), ':', round(val, 2))"
      ]
    },
    {
      "cell_type": "markdown",
      "metadata": {
        "id": "uKCqd6EVYa0g"
      },
      "source": [
        "# Dự báo"
      ]
    },
    {
      "cell_type": "code",
      "execution_count": 92,
      "metadata": {
        "colab": {
          "base_uri": "https://localhost:8080/"
        },
        "id": "5XrAyAxkYsUN",
        "outputId": "e055da1f-1116-49d9-e295-74a9a13b1d94"
      },
      "outputs": [
        {
          "data": {
            "text/plain": [
              "array([[ 161.7       ,  -18.235     , -122.9908745 , -116.8930695 ,\n",
              "          43.56992413],\n",
              "       [ -15.99      ,  -21.203     , -105.9106495 , -114.6965855 ,\n",
              "          40.48357818]])"
            ]
          },
          "execution_count": 92,
          "metadata": {},
          "output_type": "execute_result"
        }
      ],
      "source": [
        "lag_order = model_train.k_ar\n",
        "forecast_input = train_data_diff.values[-lag_order:]\n",
        "forecast_input"
      ]
    },
    {
      "cell_type": "markdown",
      "metadata": {},
      "source": [
        "Dự báo đa bước"
      ]
    },
    {
      "cell_type": "code",
      "execution_count": 93,
      "metadata": {
        "colab": {
          "base_uri": "https://localhost:8080/",
          "height": 237
        },
        "id": "wB2aEmxOa3Jt",
        "outputId": "5ddac030-22ba-4991-85a1-d275cfc5862f"
      },
      "outputs": [
        {
          "data": {
            "text/html": [
              "<div>\n",
              "<style scoped>\n",
              "    .dataframe tbody tr th:only-of-type {\n",
              "        vertical-align: middle;\n",
              "    }\n",
              "\n",
              "    .dataframe tbody tr th {\n",
              "        vertical-align: top;\n",
              "    }\n",
              "\n",
              "    .dataframe thead th {\n",
              "        text-align: right;\n",
              "    }\n",
              "</style>\n",
              "<table border=\"1\" class=\"dataframe\">\n",
              "  <thead>\n",
              "    <tr style=\"text-align: right;\">\n",
              "      <th></th>\n",
              "      <th>Close</th>\n",
              "      <th>SMA</th>\n",
              "      <th>MACD</th>\n",
              "      <th>Signal_Line</th>\n",
              "      <th>RSI</th>\n",
              "    </tr>\n",
              "    <tr>\n",
              "      <th>Date</th>\n",
              "      <th></th>\n",
              "      <th></th>\n",
              "      <th></th>\n",
              "      <th></th>\n",
              "      <th></th>\n",
              "    </tr>\n",
              "  </thead>\n",
              "  <tbody>\n",
              "    <tr>\n",
              "      <th>2024-04-30</th>\n",
              "      <td>2.211775</td>\n",
              "      <td>-19.375231</td>\n",
              "      <td>-91.145310</td>\n",
              "      <td>-109.986330</td>\n",
              "      <td>43.400826</td>\n",
              "    </tr>\n",
              "    <tr>\n",
              "      <th>2024-05-01</th>\n",
              "      <td>1.660666</td>\n",
              "      <td>-17.220245</td>\n",
              "      <td>-78.405858</td>\n",
              "      <td>-103.670236</td>\n",
              "      <td>46.688287</td>\n",
              "    </tr>\n",
              "    <tr>\n",
              "      <th>2024-05-02</th>\n",
              "      <td>3.845684</td>\n",
              "      <td>-13.994691</td>\n",
              "      <td>-67.224512</td>\n",
              "      <td>-96.381091</td>\n",
              "      <td>49.924586</td>\n",
              "    </tr>\n",
              "    <tr>\n",
              "      <th>2024-05-03</th>\n",
              "      <td>-11.907595</td>\n",
              "      <td>-11.897056</td>\n",
              "      <td>-58.648002</td>\n",
              "      <td>-88.834473</td>\n",
              "      <td>51.201681</td>\n",
              "    </tr>\n",
              "    <tr>\n",
              "      <th>2024-05-06</th>\n",
              "      <td>21.904787</td>\n",
              "      <td>-6.802401</td>\n",
              "      <td>-49.512770</td>\n",
              "      <td>-80.970133</td>\n",
              "      <td>55.228179</td>\n",
              "    </tr>\n",
              "    <tr>\n",
              "      <th>2024-05-07</th>\n",
              "      <td>-7.310501</td>\n",
              "      <td>-4.963341</td>\n",
              "      <td>-42.374464</td>\n",
              "      <td>-73.250999</td>\n",
              "      <td>55.826968</td>\n",
              "    </tr>\n",
              "    <tr>\n",
              "      <th>2024-05-08</th>\n",
              "      <td>15.072111</td>\n",
              "      <td>-1.346431</td>\n",
              "      <td>-35.096540</td>\n",
              "      <td>-65.620107</td>\n",
              "      <td>57.883777</td>\n",
              "    </tr>\n",
              "    <tr>\n",
              "      <th>2024-05-09</th>\n",
              "      <td>-2.218767</td>\n",
              "      <td>0.125019</td>\n",
              "      <td>-29.171499</td>\n",
              "      <td>-58.330386</td>\n",
              "      <td>57.915527</td>\n",
              "    </tr>\n",
              "    <tr>\n",
              "      <th>2024-05-10</th>\n",
              "      <td>-2.012781</td>\n",
              "      <td>1.383224</td>\n",
              "      <td>-24.357497</td>\n",
              "      <td>-51.535808</td>\n",
              "      <td>57.557605</td>\n",
              "    </tr>\n",
              "    <tr>\n",
              "      <th>2024-05-13</th>\n",
              "      <td>8.811543</td>\n",
              "      <td>3.265120</td>\n",
              "      <td>-19.605350</td>\n",
              "      <td>-45.149716</td>\n",
              "      <td>58.139617</td>\n",
              "    </tr>\n",
              "    <tr>\n",
              "      <th>2024-05-14</th>\n",
              "      <td>13.197555</td>\n",
              "      <td>5.043189</td>\n",
              "      <td>-14.605939</td>\n",
              "      <td>-39.040961</td>\n",
              "      <td>58.950015</td>\n",
              "    </tr>\n",
              "    <tr>\n",
              "      <th>2024-05-15</th>\n",
              "      <td>0.000042</td>\n",
              "      <td>5.278098</td>\n",
              "      <td>-10.522569</td>\n",
              "      <td>-33.337283</td>\n",
              "      <td>58.221241</td>\n",
              "    </tr>\n",
              "    <tr>\n",
              "      <th>2024-05-16</th>\n",
              "      <td>11.543913</td>\n",
              "      <td>6.426526</td>\n",
              "      <td>-6.282550</td>\n",
              "      <td>-27.926336</td>\n",
              "      <td>58.505193</td>\n",
              "    </tr>\n",
              "    <tr>\n",
              "      <th>2024-05-17</th>\n",
              "      <td>6.815911</td>\n",
              "      <td>6.877353</td>\n",
              "      <td>-2.345283</td>\n",
              "      <td>-22.810125</td>\n",
              "      <td>58.343293</td>\n",
              "    </tr>\n",
              "    <tr>\n",
              "      <th>2024-05-20</th>\n",
              "      <td>8.136470</td>\n",
              "      <td>7.331523</td>\n",
              "      <td>1.415261</td>\n",
              "      <td>-17.965048</td>\n",
              "      <td>58.229439</td>\n",
              "    </tr>\n",
              "    <tr>\n",
              "      <th>2024-05-21</th>\n",
              "      <td>5.990476</td>\n",
              "      <td>7.491470</td>\n",
              "      <td>4.823301</td>\n",
              "      <td>-13.407378</td>\n",
              "      <td>57.923472</td>\n",
              "    </tr>\n",
              "    <tr>\n",
              "      <th>2024-05-22</th>\n",
              "      <td>6.549978</td>\n",
              "      <td>7.655643</td>\n",
              "      <td>7.960956</td>\n",
              "      <td>-9.133712</td>\n",
              "      <td>57.692243</td>\n",
              "    </tr>\n",
              "    <tr>\n",
              "      <th>2024-05-23</th>\n",
              "      <td>7.643464</td>\n",
              "      <td>7.861326</td>\n",
              "      <td>10.938244</td>\n",
              "      <td>-5.119320</td>\n",
              "      <td>57.606766</td>\n",
              "    </tr>\n",
              "    <tr>\n",
              "      <th>2024-05-24</th>\n",
              "      <td>7.625016</td>\n",
              "      <td>8.005921</td>\n",
              "      <td>13.754489</td>\n",
              "      <td>-1.344559</td>\n",
              "      <td>57.534953</td>\n",
              "    </tr>\n",
              "    <tr>\n",
              "      <th>2024-05-28</th>\n",
              "      <td>5.547934</td>\n",
              "      <td>7.933589</td>\n",
              "      <td>16.246772</td>\n",
              "      <td>2.173708</td>\n",
              "      <td>57.269595</td>\n",
              "    </tr>\n",
              "    <tr>\n",
              "      <th>2024-05-29</th>\n",
              "      <td>7.392672</td>\n",
              "      <td>8.024739</td>\n",
              "      <td>18.603996</td>\n",
              "      <td>5.459765</td>\n",
              "      <td>57.208161</td>\n",
              "    </tr>\n",
              "    <tr>\n",
              "      <th>2024-05-30</th>\n",
              "      <td>5.623560</td>\n",
              "      <td>7.930051</td>\n",
              "      <td>20.687416</td>\n",
              "      <td>8.505296</td>\n",
              "      <td>57.006425</td>\n",
              "    </tr>\n",
              "  </tbody>\n",
              "</table>\n",
              "</div>"
            ],
            "text/plain": [
              "                Close        SMA       MACD  Signal_Line        RSI\n",
              "Date                                                               \n",
              "2024-04-30   2.211775 -19.375231 -91.145310  -109.986330  43.400826\n",
              "2024-05-01   1.660666 -17.220245 -78.405858  -103.670236  46.688287\n",
              "2024-05-02   3.845684 -13.994691 -67.224512   -96.381091  49.924586\n",
              "2024-05-03 -11.907595 -11.897056 -58.648002   -88.834473  51.201681\n",
              "2024-05-06  21.904787  -6.802401 -49.512770   -80.970133  55.228179\n",
              "2024-05-07  -7.310501  -4.963341 -42.374464   -73.250999  55.826968\n",
              "2024-05-08  15.072111  -1.346431 -35.096540   -65.620107  57.883777\n",
              "2024-05-09  -2.218767   0.125019 -29.171499   -58.330386  57.915527\n",
              "2024-05-10  -2.012781   1.383224 -24.357497   -51.535808  57.557605\n",
              "2024-05-13   8.811543   3.265120 -19.605350   -45.149716  58.139617\n",
              "2024-05-14  13.197555   5.043189 -14.605939   -39.040961  58.950015\n",
              "2024-05-15   0.000042   5.278098 -10.522569   -33.337283  58.221241\n",
              "2024-05-16  11.543913   6.426526  -6.282550   -27.926336  58.505193\n",
              "2024-05-17   6.815911   6.877353  -2.345283   -22.810125  58.343293\n",
              "2024-05-20   8.136470   7.331523   1.415261   -17.965048  58.229439\n",
              "2024-05-21   5.990476   7.491470   4.823301   -13.407378  57.923472\n",
              "2024-05-22   6.549978   7.655643   7.960956    -9.133712  57.692243\n",
              "2024-05-23   7.643464   7.861326  10.938244    -5.119320  57.606766\n",
              "2024-05-24   7.625016   8.005921  13.754489    -1.344559  57.534953\n",
              "2024-05-28   5.547934   7.933589  16.246772     2.173708  57.269595\n",
              "2024-05-29   7.392672   8.024739  18.603996     5.459765  57.208161\n",
              "2024-05-30   5.623560   7.930051  20.687416     8.505296  57.006425"
            ]
          },
          "execution_count": 93,
          "metadata": {},
          "output_type": "execute_result"
        }
      ],
      "source": [
        "fc = model_train.forecast(y=forecast_input, steps=len(test_data))\n",
        "forecast_data = pd.DataFrame(fc, index=data.index[-len(test_data):], columns=data.columns)\n",
        "forecast_data"
      ]
    },
    {
      "cell_type": "markdown",
      "metadata": {},
      "source": [
        "Dự báo một bước"
      ]
    },
    {
      "cell_type": "code",
      "execution_count": 94,
      "metadata": {},
      "outputs": [],
      "source": [
        "# test_data_diff = pd.DataFrame()\n",
        "# test_data_diff['Close'] = test_data['Close'].diff()\n",
        "# test_data_diff['SMA'] = test_data['SMA'].diff()\n",
        "# test_data_diff['MACD'] = test_data['MACD']\n",
        "# test_data_diff['Signal_Line'] = test_data['Signal_Line']\n",
        "# test_data_diff['RSI'] = test_data['RSI']\n",
        "# columns = ['Close', 'SMA'] #Tên chuỗi cần bù giá trị\n",
        "# predicted_data = {}\n",
        "\n",
        "# for column in columns:\n",
        "#   array_column = test_data_diff[column].to_numpy()\n",
        "#   predicted_data[column] = predict_prev(array_column[1:])\n",
        "#   test_data_diff[column].iloc[0] = predicted_data[column]"
      ]
    },
    {
      "cell_type": "code",
      "execution_count": 95,
      "metadata": {},
      "outputs": [],
      "source": [
        "\n",
        "# fc_multi = np.empty((22,5))\n",
        "# forecast_multi = forecast_input\n",
        "# for i in range(len(test_data)):\n",
        "#     fc_multi_i = model_train.forecast(y=forecast_multi, steps=1)\n",
        "#     fc_multi[i] = fc_multi_i\n",
        "#     forecast_multi = forecast_multi[1:,:]\n",
        "#     new_row = test_data_diff.iloc[i].to_numpy().reshape(1, -1)\n",
        "#     forecast_multi = np.vstack((forecast_multi, new_row))\n",
        "# forecast_data = pd.DataFrame(fc_multi, index=data.index[-len(test_data):], columns=data.columns)\n",
        "# forecast_data.head()"
      ]
    },
    {
      "cell_type": "code",
      "execution_count": 96,
      "metadata": {
        "colab": {
          "base_uri": "https://localhost:8080/",
          "height": 206
        },
        "id": "FxWSqA2NbscI",
        "outputId": "57bba95e-f649-474a-9cf2-636b32cc057c"
      },
      "outputs": [
        {
          "data": {
            "text/html": [
              "<div>\n",
              "<style scoped>\n",
              "    .dataframe tbody tr th:only-of-type {\n",
              "        vertical-align: middle;\n",
              "    }\n",
              "\n",
              "    .dataframe tbody tr th {\n",
              "        vertical-align: top;\n",
              "    }\n",
              "\n",
              "    .dataframe thead th {\n",
              "        text-align: right;\n",
              "    }\n",
              "</style>\n",
              "<table border=\"1\" class=\"dataframe\">\n",
              "  <thead>\n",
              "    <tr style=\"text-align: right;\">\n",
              "      <th></th>\n",
              "      <th>Close</th>\n",
              "      <th>SMA</th>\n",
              "      <th>MACD</th>\n",
              "      <th>Signal_Line</th>\n",
              "      <th>RSI</th>\n",
              "    </tr>\n",
              "  </thead>\n",
              "  <tbody>\n",
              "    <tr>\n",
              "      <th>0</th>\n",
              "      <td>0.00</td>\n",
              "      <td>0.0000</td>\n",
              "      <td>99.321197</td>\n",
              "      <td>90.056725</td>\n",
              "      <td>61.707838</td>\n",
              "    </tr>\n",
              "    <tr>\n",
              "      <th>1</th>\n",
              "      <td>105.59</td>\n",
              "      <td>29.8145</td>\n",
              "      <td>109.460715</td>\n",
              "      <td>93.937523</td>\n",
              "      <td>67.217516</td>\n",
              "    </tr>\n",
              "    <tr>\n",
              "      <th>2</th>\n",
              "      <td>-18.35</td>\n",
              "      <td>21.3490</td>\n",
              "      <td>114.693548</td>\n",
              "      <td>98.088728</td>\n",
              "      <td>71.051746</td>\n",
              "    </tr>\n",
              "    <tr>\n",
              "      <th>3</th>\n",
              "      <td>25.95</td>\n",
              "      <td>22.2350</td>\n",
              "      <td>119.556383</td>\n",
              "      <td>102.382259</td>\n",
              "      <td>71.499561</td>\n",
              "    </tr>\n",
              "    <tr>\n",
              "      <th>4</th>\n",
              "      <td>-16.23</td>\n",
              "      <td>19.1115</td>\n",
              "      <td>120.709130</td>\n",
              "      <td>106.047633</td>\n",
              "      <td>77.083139</td>\n",
              "    </tr>\n",
              "  </tbody>\n",
              "</table>\n",
              "</div>"
            ],
            "text/plain": [
              "    Close      SMA        MACD  Signal_Line        RSI\n",
              "0    0.00   0.0000   99.321197    90.056725  61.707838\n",
              "1  105.59  29.8145  109.460715    93.937523  67.217516\n",
              "2  -18.35  21.3490  114.693548    98.088728  71.051746\n",
              "3   25.95  22.2350  119.556383   102.382259  71.499561\n",
              "4  -16.23  19.1115  120.709130   106.047633  77.083139"
            ]
          },
          "execution_count": 96,
          "metadata": {},
          "output_type": "execute_result"
        }
      ],
      "source": [
        "forecast_data_all = pd.concat([train_data_diff, forecast_data], ignore_index=True)\n",
        "# new_row = pd.DataFrame([[0, 0, 0, 0]], columns=data.columns)\n",
        "# forecast_data_all = pd.concat([new_row, forecast_data_all], ignore_index=True)\n",
        "forecast_data_all['Close'].iloc[0] = 0\n",
        "forecast_data_all['SMA'].iloc[0] = 0\n",
        "forecast_data_all.head()"
      ]
    },
    {
      "cell_type": "code",
      "execution_count": 97,
      "metadata": {
        "colab": {
          "base_uri": "https://localhost:8080/",
          "height": 237
        },
        "id": "8_-jNBheiVT9",
        "outputId": "8e00115a-c05a-41e3-d3a3-9de27235f2db"
      },
      "outputs": [
        {
          "data": {
            "text/html": [
              "<div>\n",
              "<style scoped>\n",
              "    .dataframe tbody tr th:only-of-type {\n",
              "        vertical-align: middle;\n",
              "    }\n",
              "\n",
              "    .dataframe tbody tr th {\n",
              "        vertical-align: top;\n",
              "    }\n",
              "\n",
              "    .dataframe thead th {\n",
              "        text-align: right;\n",
              "    }\n",
              "</style>\n",
              "<table border=\"1\" class=\"dataframe\">\n",
              "  <thead>\n",
              "    <tr style=\"text-align: right;\">\n",
              "      <th></th>\n",
              "      <th>Close</th>\n",
              "      <th>SMA</th>\n",
              "      <th>MACD</th>\n",
              "      <th>Signal_Line</th>\n",
              "      <th>RSI</th>\n",
              "    </tr>\n",
              "    <tr>\n",
              "      <th>Date</th>\n",
              "      <th></th>\n",
              "      <th></th>\n",
              "      <th></th>\n",
              "      <th></th>\n",
              "      <th></th>\n",
              "    </tr>\n",
              "  </thead>\n",
              "  <tbody>\n",
              "    <tr>\n",
              "      <th>2019-06-28</th>\n",
              "      <td>4660.72</td>\n",
              "      <td>4481.3010</td>\n",
              "      <td>99.321197</td>\n",
              "      <td>90.056725</td>\n",
              "      <td>61.707838</td>\n",
              "    </tr>\n",
              "    <tr>\n",
              "      <th>2019-07-01</th>\n",
              "      <td>4766.31</td>\n",
              "      <td>4511.1155</td>\n",
              "      <td>109.460715</td>\n",
              "      <td>93.937523</td>\n",
              "      <td>67.217516</td>\n",
              "    </tr>\n",
              "    <tr>\n",
              "      <th>2019-07-02</th>\n",
              "      <td>4747.96</td>\n",
              "      <td>4532.4645</td>\n",
              "      <td>114.693548</td>\n",
              "      <td>98.088728</td>\n",
              "      <td>71.051746</td>\n",
              "    </tr>\n",
              "    <tr>\n",
              "      <th>2019-07-03</th>\n",
              "      <td>4773.91</td>\n",
              "      <td>4554.6995</td>\n",
              "      <td>119.556383</td>\n",
              "      <td>102.382259</td>\n",
              "      <td>71.499561</td>\n",
              "    </tr>\n",
              "    <tr>\n",
              "      <th>2019-07-05</th>\n",
              "      <td>4757.68</td>\n",
              "      <td>4573.8110</td>\n",
              "      <td>120.709130</td>\n",
              "      <td>106.047633</td>\n",
              "      <td>77.083139</td>\n",
              "    </tr>\n",
              "  </tbody>\n",
              "</table>\n",
              "</div>"
            ],
            "text/plain": [
              "              Close        SMA        MACD  Signal_Line        RSI\n",
              "Date                                                              \n",
              "2019-06-28  4660.72  4481.3010   99.321197    90.056725  61.707838\n",
              "2019-07-01  4766.31  4511.1155  109.460715    93.937523  67.217516\n",
              "2019-07-02  4747.96  4532.4645  114.693548    98.088728  71.051746\n",
              "2019-07-03  4773.91  4554.6995  119.556383   102.382259  71.499561\n",
              "2019-07-05  4757.68  4573.8110  120.709130   106.047633  77.083139"
            ]
          },
          "execution_count": 97,
          "metadata": {},
          "output_type": "execute_result"
        }
      ],
      "source": [
        "forecast_data_all_return = pd.DataFrame()\n",
        "forecast_data_all_return['Close'] = forecast_data_all['Close'].cumsum() + data['Close'].iloc[0]\n",
        "forecast_data_all_return['SMA'] = forecast_data_all['SMA'].cumsum() + data['SMA'].iloc[0]\n",
        "forecast_data_all_return['MACD'] = forecast_data_all['MACD']\n",
        "forecast_data_all_return['Signal_Line'] = forecast_data_all['Signal_Line']\n",
        "forecast_data_all_return['RSI'] = forecast_data_all['RSI']\n",
        "forecast_data_all_return.set_index(data.index, inplace=True)\n",
        "forecast_data_all_return.head()"
      ]
    },
    {
      "cell_type": "code",
      "execution_count": 98,
      "metadata": {
        "id": "DW0zW-uMcjqH"
      },
      "outputs": [],
      "source": [
        "from sklearn.metrics import mean_absolute_percentage_error\n",
        "from sklearn.metrics import mean_squared_error"
      ]
    },
    {
      "cell_type": "code",
      "execution_count": 99,
      "metadata": {
        "colab": {
          "base_uri": "https://localhost:8080/"
        },
        "id": "GDmdcfONisou",
        "outputId": "eb7ec7db-885d-4530-b47f-a3201002e5ea"
      },
      "outputs": [
        {
          "data": {
            "text/plain": [
              "0.021619807739400757"
            ]
          },
          "execution_count": 99,
          "metadata": {},
          "output_type": "execute_result"
        }
      ],
      "source": [
        "mape_close = mean_absolute_percentage_error(test_data['Close'], forecast_data_all_return['Close'][-n_test:]) \n",
        "mape_close"
      ]
    },
    {
      "cell_type": "code",
      "execution_count": 100,
      "metadata": {
        "colab": {
          "base_uri": "https://localhost:8080/"
        },
        "id": "ZzFi2TUmjC1V",
        "outputId": "c2dc6b82-f45d-4120-c4bf-c0ad3558439f"
      },
      "outputs": [
        {
          "data": {
            "text/plain": [
              "274.4386027615185"
            ]
          },
          "execution_count": 100,
          "metadata": {},
          "output_type": "execute_result"
        }
      ],
      "source": [
        "mse_close = mean_squared_error(test_data['Close'], forecast_data_all_return['Close'][-n_test:])\n",
        "rmse_close = np.sqrt(mse_close)\n",
        "rmse_close"
      ]
    },
    {
      "cell_type": "code",
      "execution_count": 101,
      "metadata": {
        "colab": {
          "base_uri": "https://localhost:8080/",
          "height": 564
        },
        "id": "xt661OBvjZxI",
        "outputId": "78fc6148-2253-492e-db23-1c78b5560ffb"
      },
      "outputs": [
        {
          "data": {
            "image/png": "[encoded data removed]",
            "text/plain": [
              "<Figure size 1000x600 with 1 Axes>"
            ]
          },
          "metadata": {},
          "output_type": "display_data"
        }
      ],
      "source": [
        "plt.figure(figsize=(10, 6))\n",
        "plt.plot(test_data['Close'], color='blue', label='Actual Stock Price')\n",
        "plt.plot(forecast_data_all_return['Close'][-n_test:], color='red', label='Predicted Stock Price')\n",
        "plt.title('Stock Price Prediction')\n",
        "plt.xlabel('Time')\n",
        "plt.ylabel('Stock Price')\n",
        "plt.legend()\n",
        "plt.grid(True)\n",
        "plt.show()"
      ]
    },
    {
      "cell_type": "markdown",
      "metadata": {
        "id": "O1uukfnZj8J2"
      },
      "source": [
        "# Lưu mô hình"
      ]
    },
    {
      "cell_type": "code",
      "execution_count": 102,
      "metadata": {
        "id": "8mYllrQRj-rf"
      },
      "outputs": [],
      "source": [
        "# model_train.save('VARTechnical.pkl')"
      ]
    },
    {
      "cell_type": "code",
      "execution_count": 103,
      "metadata": {},
      "outputs": [],
      "source": [
        "# np.save('forecast_tech.npy', forecast_input)"
      ]
    }
  ],
  "metadata": {
    "colab": {
      "provenance": []
    },
    "kernelspec": {
      "display_name": "Python 3",
      "name": "python3"
    },
    "language_info": {
      "codemirror_mode": {
        "name": "ipython",
        "version": 3
      },
      "file_extension": ".py",
      "mimetype": "text/x-python",
      "name": "python",
      "nbconvert_exporter": "python",
      "pygments_lexer": "ipython3",
      "version": "3.11.7"
    }
  },
  "nbformat": 4,
  "nbformat_minor": 0
}
