{
  "cells": [
    {
      "cell_type": "code",
      "execution_count": 36,
      "metadata": {
        "id": "nxuAh-Apd5o2"
      },
      "outputs": [],
      "source": [
        "import pandas as pd\n",
        "import numpy as np\n",
        "import matplotlib.pyplot as plt\n",
        "import seaborn as sns\n",
        "%matplotlib inline\n",
        "\n",
        "# Import Statsmodels\n",
        "from statsmodels.tsa.api import VAR\n",
        "from statsmodels.tsa.stattools import adfuller\n",
        "from statsmodels.tools.eval_measures import rmse, aic\n",
        "from statsmodels.tsa.seasonal import seasonal_decompose"
      ]
    },
    {
      "cell_type": "code",
      "execution_count": 37,
      "metadata": {
        "colab": {
          "base_uri": "https://localhost:8080/",
          "height": 255
        },
        "id": "I7U14G_nE5tb",
        "outputId": "2b2cd308-5855-4f87-b03d-9d9ee46948c9"
      },
      "outputs": [
        {
          "name": "stdout",
          "output_type": "stream",
          "text": [
            "(1258, 4)\n"
          ]
        },
        {
          "data": {
            "text/html": [
              "<div>\n",
              "<style scoped>\n",
              "    .dataframe tbody tr th:only-of-type {\n",
              "        vertical-align: middle;\n",
              "    }\n",
              "\n",
              "    .dataframe tbody tr th {\n",
              "        vertical-align: top;\n",
              "    }\n",
              "\n",
              "    .dataframe thead th {\n",
              "        text-align: right;\n",
              "    }\n",
              "</style>\n",
              "<table border=\"1\" class=\"dataframe\">\n",
              "  <thead>\n",
              "    <tr style=\"text-align: right;\">\n",
              "      <th></th>\n",
              "      <th>Close/Last</th>\n",
              "      <th>COMP</th>\n",
              "      <th>NATS</th>\n",
              "      <th>MSCI</th>\n",
              "    </tr>\n",
              "    <tr>\n",
              "      <th>Date</th>\n",
              "      <th></th>\n",
              "      <th></th>\n",
              "      <th></th>\n",
              "      <th></th>\n",
              "    </tr>\n",
              "  </thead>\n",
              "  <tbody>\n",
              "    <tr>\n",
              "      <th>2024-05-30</th>\n",
              "      <td>10205.24</td>\n",
              "      <td>16737.08</td>\n",
              "      <td>1633.19</td>\n",
              "      <td>4983.64</td>\n",
              "    </tr>\n",
              "    <tr>\n",
              "      <th>2024-05-29</th>\n",
              "      <td>10396.40</td>\n",
              "      <td>16920.58</td>\n",
              "      <td>1733.33</td>\n",
              "      <td>5014.18</td>\n",
              "    </tr>\n",
              "    <tr>\n",
              "      <th>2024-05-28</th>\n",
              "      <td>10526.85</td>\n",
              "      <td>17019.88</td>\n",
              "      <td>1739.75</td>\n",
              "      <td>5051.64</td>\n",
              "    </tr>\n",
              "    <tr>\n",
              "      <th>2024-05-24</th>\n",
              "      <td>10549.22</td>\n",
              "      <td>16920.79</td>\n",
              "      <td>1751.27</td>\n",
              "      <td>5051.83</td>\n",
              "    </tr>\n",
              "    <tr>\n",
              "      <th>2024-05-23</th>\n",
              "      <td>10495.82</td>\n",
              "      <td>16736.03</td>\n",
              "      <td>1770.08</td>\n",
              "      <td>5016.81</td>\n",
              "    </tr>\n",
              "  </tbody>\n",
              "</table>\n",
              "</div>"
            ],
            "text/plain": [
              "            Close/Last      COMP     NATS     MSCI\n",
              "Date                                              \n",
              "2024-05-30    10205.24  16737.08  1633.19  4983.64\n",
              "2024-05-29    10396.40  16920.58  1733.33  5014.18\n",
              "2024-05-28    10526.85  17019.88  1739.75  5051.64\n",
              "2024-05-24    10549.22  16920.79  1751.27  5051.83\n",
              "2024-05-23    10495.82  16736.03  1770.08  5016.81"
            ]
          },
          "execution_count": 37,
          "metadata": {},
          "output_type": "execute_result"
        }
      ],
      "source": [
        "df = pd.read_csv('Data_input_3.csv', parse_dates=['Date'], index_col='Date')\n",
        "print(df.shape)\n",
        "df.head()"
      ]
    },
    {
      "cell_type": "code",
      "execution_count": 38,
      "metadata": {
        "colab": {
          "base_uri": "https://localhost:8080/",
          "height": 237
        },
        "id": "P_KEOQUzFt4c",
        "outputId": "77b69db0-08cb-48ae-9197-f8509cafe12f"
      },
      "outputs": [
        {
          "data": {
            "text/html": [
              "<div>\n",
              "<style scoped>\n",
              "    .dataframe tbody tr th:only-of-type {\n",
              "        vertical-align: middle;\n",
              "    }\n",
              "\n",
              "    .dataframe tbody tr th {\n",
              "        vertical-align: top;\n",
              "    }\n",
              "\n",
              "    .dataframe thead th {\n",
              "        text-align: right;\n",
              "    }\n",
              "</style>\n",
              "<table border=\"1\" class=\"dataframe\">\n",
              "  <thead>\n",
              "    <tr style=\"text-align: right;\">\n",
              "      <th></th>\n",
              "      <th>Close</th>\n",
              "      <th>COMP</th>\n",
              "      <th>NATS</th>\n",
              "      <th>MSCI</th>\n",
              "    </tr>\n",
              "    <tr>\n",
              "      <th>Date</th>\n",
              "      <th></th>\n",
              "      <th></th>\n",
              "      <th></th>\n",
              "      <th></th>\n",
              "    </tr>\n",
              "  </thead>\n",
              "  <tbody>\n",
              "    <tr>\n",
              "      <th>2019-06-03</th>\n",
              "      <td>4170.02</td>\n",
              "      <td>7333.02</td>\n",
              "      <td>835.84</td>\n",
              "      <td>2615.02</td>\n",
              "    </tr>\n",
              "    <tr>\n",
              "      <th>2019-06-04</th>\n",
              "      <td>4320.98</td>\n",
              "      <td>7527.12</td>\n",
              "      <td>863.30</td>\n",
              "      <td>2671.61</td>\n",
              "    </tr>\n",
              "    <tr>\n",
              "      <th>2019-06-05</th>\n",
              "      <td>4329.21</td>\n",
              "      <td>7575.48</td>\n",
              "      <td>875.85</td>\n",
              "      <td>2693.60</td>\n",
              "    </tr>\n",
              "    <tr>\n",
              "      <th>2019-06-06</th>\n",
              "      <td>4375.45</td>\n",
              "      <td>7615.55</td>\n",
              "      <td>881.34</td>\n",
              "      <td>2709.88</td>\n",
              "    </tr>\n",
              "    <tr>\n",
              "      <th>2019-06-07</th>\n",
              "      <td>4435.80</td>\n",
              "      <td>7742.10</td>\n",
              "      <td>894.46</td>\n",
              "      <td>2738.40</td>\n",
              "    </tr>\n",
              "  </tbody>\n",
              "</table>\n",
              "</div>"
            ],
            "text/plain": [
              "              Close     COMP    NATS     MSCI\n",
              "Date                                         \n",
              "2019-06-03  4170.02  7333.02  835.84  2615.02\n",
              "2019-06-04  4320.98  7527.12  863.30  2671.61\n",
              "2019-06-05  4329.21  7575.48  875.85  2693.60\n",
              "2019-06-06  4375.45  7615.55  881.34  2709.88\n",
              "2019-06-07  4435.80  7742.10  894.46  2738.40"
            ]
          },
          "execution_count": 38,
          "metadata": {},
          "output_type": "execute_result"
        }
      ],
      "source": [
        "data = df.iloc[::-1]\n",
        "data.rename(columns = {'Close/Last':'Close'}, inplace = True)\n",
        "data.head()"
      ]
    },
    {
      "cell_type": "code",
      "execution_count": 39,
      "metadata": {
        "colab": {
          "base_uri": "https://localhost:8080/"
        },
        "id": "vNwzrWPZFzsF",
        "outputId": "95b7805e-5db1-4cb4-8d9b-6f78e78bd080"
      },
      "outputs": [
        {
          "data": {
            "text/plain": [
              "Close    0\n",
              "COMP     0\n",
              "NATS     0\n",
              "MSCI     0\n",
              "dtype: int64"
            ]
          },
          "execution_count": 39,
          "metadata": {},
          "output_type": "execute_result"
        }
      ],
      "source": [
        "data.isnull().sum()"
      ]
    },
    {
      "cell_type": "markdown",
      "metadata": {
        "id": "kXSbpvZjGFms"
      },
      "source": [
        "# Trực quan hóa dữ liệu"
      ]
    },
    {
      "cell_type": "code",
      "execution_count": 40,
      "metadata": {
        "colab": {
          "base_uri": "https://localhost:8080/",
          "height": 526
        },
        "id": "tdizgSyXF3fG",
        "outputId": "cae910ad-6e04-4b35-ddb9-9ef8814af710"
      },
      "outputs": [
        {
          "data": {
            "image/png": "[encoded data removed]",
            "text/plain": [
              "<Figure size 1000x600 with 1 Axes>"
            ]
          },
          "metadata": {},
          "output_type": "display_data"
        }
      ],
      "source": [
        "data['Close'].plot(figsize=(10, 6))\n",
        "plt.title('Technology Sector Index')\n",
        "plt.show()"
      ]
    },
    {
      "cell_type": "code",
      "execution_count": 41,
      "metadata": {
        "id": "WqgIT_NGGLA3"
      },
      "outputs": [],
      "source": [
        "# rolling_window = 30\n",
        "# f, ax = plt.subplots(nrows=2, ncols=2, figsize=(16, 12))\n",
        "\n",
        "# sns.lineplot(x=data.index, y=data.Close, ax=ax[0, 0], color='indianred')\n",
        "# sns.lineplot(x=data.index, y=data.Close.rolling(rolling_window).mean(), ax=ax[0, 0], color='green', label='rolling mean')\n",
        "# sns.lineplot(x=data.index, y=data.Close.rolling(rolling_window).std(), ax=ax[0, 0], color='blue', label='rolling std')\n",
        "# ax[0, 0].set_title('Close', fontsize=14)\n",
        "# ax[0, 0].set_ylabel(ylabel='Close', fontsize=14)\n",
        "\n",
        "# sns.lineplot(x=data.index, y=data.COMP, ax=ax[0, 1], color='indianred')\n",
        "# sns.lineplot(x=data.index, y=data.COMP.rolling(rolling_window).mean(), ax=ax[0, 1], color='green', label='rolling mean')\n",
        "# sns.lineplot(x=data.index, y=data.COMP.rolling(rolling_window).std(), ax=ax[0, 1], color='blue', label='rolling std')\n",
        "# ax[0, 1].set_title('COMP', fontsize=14)\n",
        "# ax[0, 1].set_ylabel(ylabel='COMP', fontsize=14)\n",
        "\n",
        "# sns.lineplot(x=data.index, y=data.NATS, ax=ax[1, 0], color='indianred')\n",
        "# sns.lineplot(x=data.index, y=data.NATS.rolling(rolling_window).mean(), ax=ax[1, 0], color='green', label='rolling mean')\n",
        "# sns.lineplot(x=data.index, y=data.NATS.rolling(rolling_window).std(), ax=ax[1, 0], color='blue', label='rolling std')\n",
        "# ax[1, 0].set_title('NATS', fontsize=14)\n",
        "# ax[1, 0].set_ylabel(ylabel='NATS', fontsize=14)\n",
        "\n",
        "# sns.lineplot(x=data.index, y=data.MSCI, ax=ax[1, 1], color='indianred')\n",
        "# sns.lineplot(x=data.index, y=data.MSCI.rolling(rolling_window).mean(), ax=ax[1, 1], color='green', label='rolling mean')\n",
        "# sns.lineplot(x=data.index, y=data.MSCI.rolling(rolling_window).std(), ax=ax[1, 1], color='blue', label='rolling std')\n",
        "# ax[1, 1].set_title('MSCI', fontsize=14)\n",
        "# ax[1, 1].set_ylabel(ylabel='MSCI', fontsize=14)"
      ]
    },
    {
      "cell_type": "markdown",
      "metadata": {
        "id": "gbxnOkJeGYzJ"
      },
      "source": [
        "Trend/Season Decompose"
      ]
    },
    {
      "cell_type": "code",
      "execution_count": 42,
      "metadata": {
        "id": "eFdg6mmfGTQr"
      },
      "outputs": [],
      "source": [
        "# fig_2, ax_2 = plt.subplots(ncols=2, nrows=4, sharex=True, figsize=(16, 8))\n",
        "\n",
        "# ax_2[0,0].set_title('Decomposition of Close', fontsize=16)\n",
        "# res = seasonal_decompose(data['Close'], period = 365, model='additive', extrapolate_trend='freq')\n",
        "\n",
        "# res.observed.plot(ax=ax_2[0,0], legend=False, color='dodgerblue')\n",
        "# ax_2[0,0].set_ylabel('Observed', fontsize=14)\n",
        "# # ax_2[0,0].set_ylim([-5, 35])\n",
        "\n",
        "# res.trend.plot(ax=ax_2[1,0], legend=False, color='dodgerblue')\n",
        "# ax_2[1,0].set_ylabel('Trend', fontsize=14)\n",
        "# # ax_2[1,0].set_ylim([-5, 35])\n",
        "\n",
        "# res.seasonal.plot(ax=ax_2[2,0], legend=False, color='dodgerblue')\n",
        "# ax_2[2,0].set_ylabel('Seasonal', fontsize=14)\n",
        "# # ax_2[2,0].set_ylim([-15, 15])\n",
        "\n",
        "# res.resid.plot(ax=ax_2[3,0], legend=False, color='dodgerblue')\n",
        "# ax_2[3,0].set_ylabel('Residual', fontsize=14)\n",
        "# # ax_2[3,0].set_ylim([-15, 15])\n",
        "\n",
        "# ax_2[0, 1].set_title('Decomposition of COMP', fontsize=16)\n",
        "# res_comp = seasonal_decompose(data['COMP'], period = 365, model='additive', extrapolate_trend='freq')\n",
        "\n",
        "# res_comp.observed.plot(ax=ax_2[0, 1], legend=False, color='dodgerblue')\n",
        "# ax_2[0, 1].set_ylabel('Observed', fontsize=14)\n",
        "\n",
        "# res_comp.trend.plot(ax=ax_2[1, 1], legend=False, color='dodgerblue')\n",
        "# ax_2[1, 1].set_ylabel('Trend', fontsize=14)\n",
        "\n",
        "# res_comp.seasonal.plot(ax=ax_2[2, 1], legend=False, color='dodgerblue')\n",
        "# ax_2[2, 1].set_ylabel('Seasonal', fontsize=14)\n",
        "\n",
        "# res_comp.resid.plot(ax=ax_2[3, 1], legend=False, color='dodgerblue')\n",
        "# ax_2[3, 1].set_ylabel('Residual', fontsize=14)\n",
        "\n",
        "# plt.show()"
      ]
    },
    {
      "cell_type": "code",
      "execution_count": 43,
      "metadata": {
        "id": "pQlkUHYrGshk"
      },
      "outputs": [],
      "source": [
        "# fig_2, ax_2 = plt.subplots(ncols=2, nrows=4, sharex=True, figsize=(16, 8))\n",
        "\n",
        "# ax_2[0,0].set_title('Decomposition of NATS', fontsize=16)\n",
        "# res = seasonal_decompose(data['NATS'], period = 365, model='additive', extrapolate_trend='freq')\n",
        "\n",
        "# res.observed.plot(ax=ax_2[0,0], legend=False, color='dodgerblue')\n",
        "# ax_2[0,0].set_ylabel('Observed', fontsize=14)\n",
        "\n",
        "\n",
        "# res.trend.plot(ax=ax_2[1,0], legend=False, color='dodgerblue')\n",
        "# ax_2[1,0].set_ylabel('Trend', fontsize=14)\n",
        "\n",
        "\n",
        "# res.seasonal.plot(ax=ax_2[2,0], legend=False, color='dodgerblue')\n",
        "# ax_2[2,0].set_ylabel('Seasonal', fontsize=14)\n",
        "\n",
        "\n",
        "# res.resid.plot(ax=ax_2[3,0], legend=False, color='dodgerblue')\n",
        "# ax_2[3,0].set_ylabel('Residual', fontsize=14)\n",
        "\n",
        "\n",
        "# ax_2[0, 1].set_title('Decomposition of MSCI', fontsize=16)\n",
        "# res_comp = seasonal_decompose(data['MSCI'], period = 365, model='additive', extrapolate_trend='freq')\n",
        "\n",
        "# res_comp.observed.plot(ax=ax_2[0, 1], legend=False, color='dodgerblue')\n",
        "# ax_2[0, 1].set_ylabel('Observed', fontsize=14)\n",
        "\n",
        "# res_comp.trend.plot(ax=ax_2[1, 1], legend=False, color='dodgerblue')\n",
        "# ax_2[1, 1].set_ylabel('Trend', fontsize=14)\n",
        "\n",
        "# res_comp.seasonal.plot(ax=ax_2[2, 1], legend=False, color='dodgerblue')\n",
        "# ax_2[2, 1].set_ylabel('Seasonal', fontsize=14)\n",
        "\n",
        "# res_comp.resid.plot(ax=ax_2[3, 1], legend=False, color='dodgerblue')\n",
        "# ax_2[3, 1].set_ylabel('Residual', fontsize=14)\n",
        "\n",
        "# plt.show()"
      ]
    },
    {
      "cell_type": "markdown",
      "metadata": {
        "id": "VAAbEdc8HJh7"
      },
      "source": [
        "# Kiểm định nhân quả"
      ]
    },
    {
      "cell_type": "code",
      "execution_count": 44,
      "metadata": {
        "id": "eoHChqZ5Hufw"
      },
      "outputs": [],
      "source": [
        "from statsmodels.tsa.stattools import grangercausalitytests"
      ]
    },
    {
      "cell_type": "code",
      "execution_count": 45,
      "metadata": {
        "colab": {
          "base_uri": "https://localhost:8080/",
          "height": 755
        },
        "id": "JfGND0CBH1mQ",
        "outputId": "95d6d0f7-98ff-4b4e-a24a-fcfd1ca65bea"
      },
      "outputs": [
        {
          "name": "stderr",
          "output_type": "stream",
          "text": [
            "d:\\anaconda3\\Lib\\site-packages\\statsmodels\\tsa\\stattools.py:1488: FutureWarning: verbose is deprecated since functions should not print results\n",
            "  warnings.warn(\n",
            "d:\\anaconda3\\Lib\\site-packages\\statsmodels\\tsa\\stattools.py:1488: FutureWarning: verbose is deprecated since functions should not print results\n",
            "  warnings.warn(\n",
            "d:\\anaconda3\\Lib\\site-packages\\statsmodels\\tsa\\stattools.py:1488: FutureWarning: verbose is deprecated since functions should not print results\n",
            "  warnings.warn(\n",
            "d:\\anaconda3\\Lib\\site-packages\\statsmodels\\tsa\\stattools.py:1488: FutureWarning: verbose is deprecated since functions should not print results\n",
            "  warnings.warn(\n",
            "d:\\anaconda3\\Lib\\site-packages\\statsmodels\\tsa\\stattools.py:1488: FutureWarning: verbose is deprecated since functions should not print results\n",
            "  warnings.warn(\n",
            "d:\\anaconda3\\Lib\\site-packages\\statsmodels\\tsa\\stattools.py:1488: FutureWarning: verbose is deprecated since functions should not print results\n",
            "  warnings.warn(\n",
            "d:\\anaconda3\\Lib\\site-packages\\statsmodels\\tsa\\stattools.py:1488: FutureWarning: verbose is deprecated since functions should not print results\n",
            "  warnings.warn(\n",
            "d:\\anaconda3\\Lib\\site-packages\\statsmodels\\tsa\\stattools.py:1488: FutureWarning: verbose is deprecated since functions should not print results\n",
            "  warnings.warn(\n",
            "d:\\anaconda3\\Lib\\site-packages\\statsmodels\\tsa\\stattools.py:1488: FutureWarning: verbose is deprecated since functions should not print results\n",
            "  warnings.warn(\n",
            "d:\\anaconda3\\Lib\\site-packages\\statsmodels\\tsa\\stattools.py:1488: FutureWarning: verbose is deprecated since functions should not print results\n",
            "  warnings.warn(\n",
            "d:\\anaconda3\\Lib\\site-packages\\statsmodels\\tsa\\stattools.py:1488: FutureWarning: verbose is deprecated since functions should not print results\n",
            "  warnings.warn(\n",
            "d:\\anaconda3\\Lib\\site-packages\\statsmodels\\tsa\\stattools.py:1488: FutureWarning: verbose is deprecated since functions should not print results\n",
            "  warnings.warn(\n",
            "d:\\anaconda3\\Lib\\site-packages\\statsmodels\\tsa\\stattools.py:1488: FutureWarning: verbose is deprecated since functions should not print results\n",
            "  warnings.warn(\n",
            "d:\\anaconda3\\Lib\\site-packages\\statsmodels\\tsa\\stattools.py:1488: FutureWarning: verbose is deprecated since functions should not print results\n",
            "  warnings.warn(\n",
            "d:\\anaconda3\\Lib\\site-packages\\statsmodels\\tsa\\stattools.py:1488: FutureWarning: verbose is deprecated since functions should not print results\n",
            "  warnings.warn(\n",
            "d:\\anaconda3\\Lib\\site-packages\\statsmodels\\tsa\\stattools.py:1488: FutureWarning: verbose is deprecated since functions should not print results\n",
            "  warnings.warn(\n"
          ]
        },
        {
          "data": {
            "text/html": [
              "<div>\n",
              "<style scoped>\n",
              "    .dataframe tbody tr th:only-of-type {\n",
              "        vertical-align: middle;\n",
              "    }\n",
              "\n",
              "    .dataframe tbody tr th {\n",
              "        vertical-align: top;\n",
              "    }\n",
              "\n",
              "    .dataframe thead th {\n",
              "        text-align: right;\n",
              "    }\n",
              "</style>\n",
              "<table border=\"1\" class=\"dataframe\">\n",
              "  <thead>\n",
              "    <tr style=\"text-align: right;\">\n",
              "      <th></th>\n",
              "      <th>Close_x</th>\n",
              "      <th>COMP_x</th>\n",
              "      <th>NATS_x</th>\n",
              "      <th>MSCI_x</th>\n",
              "    </tr>\n",
              "  </thead>\n",
              "  <tbody>\n",
              "    <tr>\n",
              "      <th>Close_y</th>\n",
              "      <td>1.0000</td>\n",
              "      <td>0.0247</td>\n",
              "      <td>0.0264</td>\n",
              "      <td>0.0176</td>\n",
              "    </tr>\n",
              "    <tr>\n",
              "      <th>COMP_y</th>\n",
              "      <td>0.2764</td>\n",
              "      <td>1.0000</td>\n",
              "      <td>0.0305</td>\n",
              "      <td>0.0007</td>\n",
              "    </tr>\n",
              "    <tr>\n",
              "      <th>NATS_y</th>\n",
              "      <td>0.0505</td>\n",
              "      <td>0.0094</td>\n",
              "      <td>1.0000</td>\n",
              "      <td>0.0006</td>\n",
              "    </tr>\n",
              "    <tr>\n",
              "      <th>MSCI_y</th>\n",
              "      <td>0.0073</td>\n",
              "      <td>0.0059</td>\n",
              "      <td>0.0088</td>\n",
              "      <td>1.0000</td>\n",
              "    </tr>\n",
              "  </tbody>\n",
              "</table>\n",
              "</div>"
            ],
            "text/plain": [
              "         Close_x  COMP_x  NATS_x  MSCI_x\n",
              "Close_y   1.0000  0.0247  0.0264  0.0176\n",
              "COMP_y    0.2764  1.0000  0.0305  0.0007\n",
              "NATS_y    0.0505  0.0094  1.0000  0.0006\n",
              "MSCI_y    0.0073  0.0059  0.0088  1.0000"
            ]
          },
          "execution_count": 45,
          "metadata": {},
          "output_type": "execute_result"
        }
      ],
      "source": [
        "maxlag=12\n",
        "test = 'ssr_chi2test'\n",
        "def grangers_causation_matrix(data, variables, test='ssr_chi2test', verbose=False):\n",
        "    df = pd.DataFrame(np.zeros((len(variables), len(variables))), columns=variables, index=variables)\n",
        "    for c in df.columns:\n",
        "        for r in df.index:\n",
        "            test_result = grangercausalitytests(data[[r, c]], maxlag=maxlag, verbose=False)\n",
        "            p_values = [round(test_result[i+1][0][test][1],4) for i in range(maxlag)]\n",
        "            if verbose: print(f'Y = {r}, X = {c}, P Values = {p_values}')\n",
        "            min_p_value = np.min(p_values)\n",
        "            df.loc[r, c] = min_p_value\n",
        "    df.columns = [var + '_x' for var in variables]\n",
        "    df.index = [var + '_y' for var in variables]\n",
        "    return df\n",
        "\n",
        "grangers_causation_matrix(data, variables = data.columns)"
      ]
    },
    {
      "cell_type": "markdown",
      "metadata": {
        "id": "npki5_kyLXig"
      },
      "source": [
        "# Train test split"
      ]
    },
    {
      "cell_type": "code",
      "execution_count": 46,
      "metadata": {
        "colab": {
          "base_uri": "https://localhost:8080/"
        },
        "id": "cU0rc-dKNNKc",
        "outputId": "740a962f-f75c-4191-e3f9-40d70e0fdc5b"
      },
      "outputs": [
        {
          "name": "stdout",
          "output_type": "stream",
          "text": [
            "(1236, 4)\n",
            "(22, 4)\n"
          ]
        }
      ],
      "source": [
        "n_test = 22\n",
        "train_data, test_data = data[:-n_test], data[-n_test:]\n",
        "print(train_data.shape)\n",
        "print(test_data.shape)"
      ]
    },
    {
      "cell_type": "markdown",
      "metadata": {
        "id": "COFMgIKnMDZl"
      },
      "source": [
        "# Kiểm định tính dừng với ADF test và sai phân"
      ]
    },
    {
      "cell_type": "code",
      "execution_count": 47,
      "metadata": {
        "id": "rqzMxdCUL8WY"
      },
      "outputs": [],
      "source": [
        "def adfuller_test(series, signif=0.05, name='', verbose=False):\n",
        "    \"\"\"Perform ADFuller to test for Stationarity of given series and print report\"\"\"\n",
        "    r = adfuller(series, autolag='AIC')\n",
        "    output = {'test_statistic':round(r[0], 4), 'pvalue':round(r[1], 4), 'n_lags':round(r[2], 4), 'n_obs':r[3]}\n",
        "    p_value = output['pvalue']\n",
        "    def adjust(val, length= 6): return str(val).ljust(length)\n",
        "\n",
        "    # Print Summary\n",
        "    # print(f'    Augmented Dickey-Fuller Test on \"{name}\"', \"\\n   \", '-'*47)\n",
        "    # print(f' Null Hypothesis: Data has unit root. Non-Stationary.')\n",
        "    # print(f' Significance Level    = {signif}')\n",
        "    # print(f' Test Statistic        = {output[\"test_statistic\"]}')\n",
        "    # print(f' No. Lags Chosen       = {output[\"n_lags\"]}')\n",
        "\n",
        "    # for key,val in r[4].items():\n",
        "    #     print(f' Critical value {adjust(key)} = {round(val, 3)}')\n",
        "\n",
        "    if p_value <= signif:\n",
        "        print(f\" => P-Value = {p_value}. Rejecting Null Hypothesis.\")\n",
        "        print(f\" => Series is Stationary.\")\n",
        "    else:\n",
        "        print(f\" => P-Value = {p_value}. Weak evidence to reject the Null Hypothesis.\")\n",
        "        print(f\" => Series is Non-Stationary.\")"
      ]
    },
    {
      "cell_type": "code",
      "execution_count": 48,
      "metadata": {
        "colab": {
          "base_uri": "https://localhost:8080/"
        },
        "id": "xyyNVNlYMexA",
        "outputId": "35a235bd-5007-4ba2-e3f2-9e0d50aed763"
      },
      "outputs": [
        {
          "name": "stdout",
          "output_type": "stream",
          "text": [
            " => P-Value = 0.6388. Weak evidence to reject the Null Hypothesis.\n",
            " => Series is Non-Stationary.\n",
            "\n",
            "\n",
            " => P-Value = 0.5818. Weak evidence to reject the Null Hypothesis.\n",
            " => Series is Non-Stationary.\n",
            "\n",
            "\n",
            " => P-Value = 0.5297. Weak evidence to reject the Null Hypothesis.\n",
            " => Series is Non-Stationary.\n",
            "\n",
            "\n",
            " => P-Value = 0.6867. Weak evidence to reject the Null Hypothesis.\n",
            " => Series is Non-Stationary.\n",
            "\n",
            "\n"
          ]
        }
      ],
      "source": [
        "for name, column in train_data.items():\n",
        "    adfuller_test(column, name=column.name)\n",
        "    print('\\n')"
      ]
    },
    {
      "cell_type": "markdown",
      "metadata": {
        "id": "J9HkRLxmOGJc"
      },
      "source": [
        "Sai phân dữ liệu"
      ]
    },
    {
      "cell_type": "code",
      "execution_count": 49,
      "metadata": {
        "colab": {
          "base_uri": "https://localhost:8080/",
          "height": 237
        },
        "id": "FrYT8XirNzcu",
        "outputId": "3bb1a36b-9608-4a9d-fb1c-407c627e5e89"
      },
      "outputs": [
        {
          "data": {
            "text/html": [
              "<div>\n",
              "<style scoped>\n",
              "    .dataframe tbody tr th:only-of-type {\n",
              "        vertical-align: middle;\n",
              "    }\n",
              "\n",
              "    .dataframe tbody tr th {\n",
              "        vertical-align: top;\n",
              "    }\n",
              "\n",
              "    .dataframe thead th {\n",
              "        text-align: right;\n",
              "    }\n",
              "</style>\n",
              "<table border=\"1\" class=\"dataframe\">\n",
              "  <thead>\n",
              "    <tr style=\"text-align: right;\">\n",
              "      <th></th>\n",
              "      <th>Close</th>\n",
              "      <th>COMP</th>\n",
              "      <th>NATS</th>\n",
              "      <th>MSCI</th>\n",
              "    </tr>\n",
              "    <tr>\n",
              "      <th>Date</th>\n",
              "      <th></th>\n",
              "      <th></th>\n",
              "      <th></th>\n",
              "      <th></th>\n",
              "    </tr>\n",
              "  </thead>\n",
              "  <tbody>\n",
              "    <tr>\n",
              "      <th>2019-06-04</th>\n",
              "      <td>150.96</td>\n",
              "      <td>194.10</td>\n",
              "      <td>0.032325</td>\n",
              "      <td>56.59</td>\n",
              "    </tr>\n",
              "    <tr>\n",
              "      <th>2019-06-05</th>\n",
              "      <td>8.23</td>\n",
              "      <td>48.36</td>\n",
              "      <td>0.014433</td>\n",
              "      <td>21.99</td>\n",
              "    </tr>\n",
              "    <tr>\n",
              "      <th>2019-06-06</th>\n",
              "      <td>46.24</td>\n",
              "      <td>40.07</td>\n",
              "      <td>0.006249</td>\n",
              "      <td>16.28</td>\n",
              "    </tr>\n",
              "    <tr>\n",
              "      <th>2019-06-07</th>\n",
              "      <td>60.35</td>\n",
              "      <td>126.55</td>\n",
              "      <td>0.014777</td>\n",
              "      <td>28.52</td>\n",
              "    </tr>\n",
              "    <tr>\n",
              "      <th>2019-06-10</th>\n",
              "      <td>80.08</td>\n",
              "      <td>81.07</td>\n",
              "      <td>0.008749</td>\n",
              "      <td>13.71</td>\n",
              "    </tr>\n",
              "  </tbody>\n",
              "</table>\n",
              "</div>"
            ],
            "text/plain": [
              "             Close    COMP      NATS   MSCI\n",
              "Date                                       \n",
              "2019-06-04  150.96  194.10  0.032325  56.59\n",
              "2019-06-05    8.23   48.36  0.014433  21.99\n",
              "2019-06-06   46.24   40.07  0.006249  16.28\n",
              "2019-06-07   60.35  126.55  0.014777  28.52\n",
              "2019-06-10   80.08   81.07  0.008749  13.71"
            ]
          },
          "execution_count": 49,
          "metadata": {},
          "output_type": "execute_result"
        }
      ],
      "source": [
        "train_data_be_diff = pd.DataFrame()\n",
        "train_data_be_diff['Close'] = train_data['Close']\n",
        "train_data_be_diff['COMP'] = train_data['COMP']\n",
        "train_data_be_diff['NATS'] = np.log(train_data['NATS']) \n",
        "train_data_be_diff['MSCI'] = train_data['MSCI']\n",
        "train_data_diff = train_data_be_diff.diff()\n",
        "train_data_diff = train_data_diff.dropna()\n",
        "train_data_diff.head()"
      ]
    },
    {
      "cell_type": "code",
      "execution_count": 50,
      "metadata": {
        "colab": {
          "base_uri": "https://localhost:8080/"
        },
        "id": "FhDV6zmkR2Ee",
        "outputId": "4659c336-4624-4fc8-c689-7d08211d4cd4"
      },
      "outputs": [
        {
          "name": "stdout",
          "output_type": "stream",
          "text": [
            " => P-Value = 0.0. Rejecting Null Hypothesis.\n",
            " => Series is Stationary.\n",
            "\n",
            "\n",
            " => P-Value = 0.0. Rejecting Null Hypothesis.\n",
            " => Series is Stationary.\n",
            "\n",
            "\n",
            " => P-Value = 0.0. Rejecting Null Hypothesis.\n",
            " => Series is Stationary.\n",
            "\n",
            "\n",
            " => P-Value = 0.0. Rejecting Null Hypothesis.\n",
            " => Series is Stationary.\n",
            "\n",
            "\n"
          ]
        }
      ],
      "source": [
        "for name, column in train_data_diff.items():\n",
        "    adfuller_test(column, name=column.name)\n",
        "    print('\\n')"
      ]
    },
    {
      "cell_type": "code",
      "execution_count": 51,
      "metadata": {},
      "outputs": [
        {
          "name": "stderr",
          "output_type": "stream",
          "text": [
            "d:\\anaconda3\\Lib\\site-packages\\statsmodels\\tsa\\stattools.py:1488: FutureWarning: verbose is deprecated since functions should not print results\n",
            "  warnings.warn(\n",
            "d:\\anaconda3\\Lib\\site-packages\\statsmodels\\tsa\\stattools.py:1488: FutureWarning: verbose is deprecated since functions should not print results\n",
            "  warnings.warn(\n",
            "d:\\anaconda3\\Lib\\site-packages\\statsmodels\\tsa\\stattools.py:1488: FutureWarning: verbose is deprecated since functions should not print results\n",
            "  warnings.warn(\n",
            "d:\\anaconda3\\Lib\\site-packages\\statsmodels\\tsa\\stattools.py:1488: FutureWarning: verbose is deprecated since functions should not print results\n",
            "  warnings.warn(\n",
            "d:\\anaconda3\\Lib\\site-packages\\statsmodels\\tsa\\stattools.py:1488: FutureWarning: verbose is deprecated since functions should not print results\n",
            "  warnings.warn(\n",
            "d:\\anaconda3\\Lib\\site-packages\\statsmodels\\tsa\\stattools.py:1488: FutureWarning: verbose is deprecated since functions should not print results\n",
            "  warnings.warn(\n",
            "d:\\anaconda3\\Lib\\site-packages\\statsmodels\\tsa\\stattools.py:1488: FutureWarning: verbose is deprecated since functions should not print results\n",
            "  warnings.warn(\n",
            "d:\\anaconda3\\Lib\\site-packages\\statsmodels\\tsa\\stattools.py:1488: FutureWarning: verbose is deprecated since functions should not print results\n",
            "  warnings.warn(\n",
            "d:\\anaconda3\\Lib\\site-packages\\statsmodels\\tsa\\stattools.py:1488: FutureWarning: verbose is deprecated since functions should not print results\n",
            "  warnings.warn(\n",
            "d:\\anaconda3\\Lib\\site-packages\\statsmodels\\tsa\\stattools.py:1488: FutureWarning: verbose is deprecated since functions should not print results\n",
            "  warnings.warn(\n",
            "d:\\anaconda3\\Lib\\site-packages\\statsmodels\\tsa\\stattools.py:1488: FutureWarning: verbose is deprecated since functions should not print results\n",
            "  warnings.warn(\n",
            "d:\\anaconda3\\Lib\\site-packages\\statsmodels\\tsa\\stattools.py:1488: FutureWarning: verbose is deprecated since functions should not print results\n",
            "  warnings.warn(\n",
            "d:\\anaconda3\\Lib\\site-packages\\statsmodels\\tsa\\stattools.py:1488: FutureWarning: verbose is deprecated since functions should not print results\n",
            "  warnings.warn(\n",
            "d:\\anaconda3\\Lib\\site-packages\\statsmodels\\tsa\\stattools.py:1488: FutureWarning: verbose is deprecated since functions should not print results\n",
            "  warnings.warn(\n",
            "d:\\anaconda3\\Lib\\site-packages\\statsmodels\\tsa\\stattools.py:1488: FutureWarning: verbose is deprecated since functions should not print results\n",
            "  warnings.warn(\n",
            "d:\\anaconda3\\Lib\\site-packages\\statsmodels\\tsa\\stattools.py:1488: FutureWarning: verbose is deprecated since functions should not print results\n",
            "  warnings.warn(\n"
          ]
        },
        {
          "data": {
            "text/html": [
              "<div>\n",
              "<style scoped>\n",
              "    .dataframe tbody tr th:only-of-type {\n",
              "        vertical-align: middle;\n",
              "    }\n",
              "\n",
              "    .dataframe tbody tr th {\n",
              "        vertical-align: top;\n",
              "    }\n",
              "\n",
              "    .dataframe thead th {\n",
              "        text-align: right;\n",
              "    }\n",
              "</style>\n",
              "<table border=\"1\" class=\"dataframe\">\n",
              "  <thead>\n",
              "    <tr style=\"text-align: right;\">\n",
              "      <th></th>\n",
              "      <th>Close_x</th>\n",
              "      <th>COMP_x</th>\n",
              "      <th>NATS_x</th>\n",
              "      <th>MSCI_x</th>\n",
              "    </tr>\n",
              "  </thead>\n",
              "  <tbody>\n",
              "    <tr>\n",
              "      <th>Close_y</th>\n",
              "      <td>1.0000</td>\n",
              "      <td>0.0208</td>\n",
              "      <td>0.0101</td>\n",
              "      <td>0.0047</td>\n",
              "    </tr>\n",
              "    <tr>\n",
              "      <th>COMP_y</th>\n",
              "      <td>0.1546</td>\n",
              "      <td>1.0000</td>\n",
              "      <td>0.0752</td>\n",
              "      <td>0.0007</td>\n",
              "    </tr>\n",
              "    <tr>\n",
              "      <th>NATS_y</th>\n",
              "      <td>0.1879</td>\n",
              "      <td>0.1700</td>\n",
              "      <td>1.0000</td>\n",
              "      <td>0.0021</td>\n",
              "    </tr>\n",
              "    <tr>\n",
              "      <th>MSCI_y</th>\n",
              "      <td>0.0052</td>\n",
              "      <td>0.0092</td>\n",
              "      <td>0.4805</td>\n",
              "      <td>1.0000</td>\n",
              "    </tr>\n",
              "  </tbody>\n",
              "</table>\n",
              "</div>"
            ],
            "text/plain": [
              "         Close_x  COMP_x  NATS_x  MSCI_x\n",
              "Close_y   1.0000  0.0208  0.0101  0.0047\n",
              "COMP_y    0.1546  1.0000  0.0752  0.0007\n",
              "NATS_y    0.1879  0.1700  1.0000  0.0021\n",
              "MSCI_y    0.0052  0.0092  0.4805  1.0000"
            ]
          },
          "execution_count": 51,
          "metadata": {},
          "output_type": "execute_result"
        }
      ],
      "source": [
        "grangers_causation_matrix(train_data_diff, variables = data.columns)"
      ]
    },
    {
      "cell_type": "markdown",
      "metadata": {
        "id": "0YMn30-DOZz-"
      },
      "source": [
        "# Dự báo tuyến tính lùi (Sử dụng trong trường hợp các chuỗi dừng với sai phân khác nhau)"
      ]
    },
    {
      "cell_type": "code",
      "execution_count": 52,
      "metadata": {
        "id": "28g6odwsOhJY"
      },
      "outputs": [],
      "source": [
        "def cal_gamma_0(n, array):\n",
        "  gamma_0 = 0\n",
        "  for i in range(n):\n",
        "    temp = array[i] * array[i]\n",
        "    gamma_0 += temp\n",
        "  gamma_0 = gamma_0 / n\n",
        "  return gamma_0\n",
        "def cal_gamma_1(n, array):\n",
        "  gamma_1 = 0\n",
        "  for i in range(n - 1):\n",
        "    temp = array[i] * array[i + 1]\n",
        "    gamma_1 += temp\n",
        "  gamma_1 = gamma_1 / n\n",
        "  return gamma_1\n",
        "def cal_gamma_2(n, array):\n",
        "  gamma_2 = 0\n",
        "  for i in range(n - 2):\n",
        "    temp = array[i] + array[i + 2]\n",
        "    gamma_2 += temp\n",
        "  gamma_2 = gamma_2 / n\n",
        "  return gamma_2\n",
        "def cal_gamma_3(n, array):\n",
        "  gamma_3 = 0\n",
        "  for i in range(n - 3):\n",
        "    temp = array[i] + array[i + 3]\n",
        "    gamma_3 += temp\n",
        "  gamma_3 = gamma_3 / n\n",
        "  return gamma_3\n",
        "def theta_3steps(gamma_0, gamma_1, gamma_2, gamma_3):\n",
        "  Theta = np.zeros((3,1))\n",
        "  Gamma = np.zeros((3,3))\n",
        "  gamma = np.zeros((3,1))\n",
        "  Gamma[0,0] = gamma_0\n",
        "  Gamma[0,1] = gamma_1\n",
        "  Gamma[0,2] = gamma_2\n",
        "  Gamma[1,0] = gamma_1\n",
        "  Gamma[1,1] = gamma_0\n",
        "  Gamma[1,2] = gamma_1\n",
        "  Gamma[2,0] = gamma_2\n",
        "  Gamma[2,1] = gamma_1\n",
        "  Gamma[2,2] = gamma_0\n",
        "  gamma[0,0] = gamma_1\n",
        "  gamma[1,0] = gamma_2\n",
        "  gamma[2,0] = gamma_3\n",
        "  Theta = np.dot(np.linalg.inv(Gamma), gamma)\n",
        "  return Theta\n",
        "def predict_prev(array):\n",
        "  mean = np.mean(array)\n",
        "  n = len(array)\n",
        "  array = array - mean\n",
        "  gamma_0 = cal_gamma_0(n, array)\n",
        "  gamma_1 = cal_gamma_1(n, array)\n",
        "  gamma_2 = cal_gamma_2(n, array)\n",
        "  gamma_3 = cal_gamma_3(n, array)\n",
        "  Theta = theta_3steps(gamma_0, gamma_1 , gamma_2, gamma_3)\n",
        "  predict = Theta[0,0] * array[0] + Theta[1,0] * array[1] + Theta[2,0] * array[2] + mean\n",
        "  return predict"
      ]
    },
    {
      "cell_type": "code",
      "execution_count": 53,
      "metadata": {
        "id": "nQbSic88QLgo"
      },
      "outputs": [],
      "source": [
        "# columns = [] #Tên chuỗi cần bù giá trị\n",
        "# predicted_data = {}\n",
        "# for column in columns:\n",
        "#   array_column = train_data_diff[column].to_numpy()\n",
        "#   predicted_data[column] = predict_prev(array_column)\n",
        "# previous_row = pd.DataFrame([predicted_data])\n",
        "# train_data_diff = pd.concat([previous_row, train_data_diff], ignore_index=True)\n",
        "# train_data_diff.head()"
      ]
    },
    {
      "cell_type": "markdown",
      "metadata": {
        "id": "vQl7NVfVTGUd"
      },
      "source": [
        "# Huấn luyện mô hình"
      ]
    },
    {
      "cell_type": "code",
      "execution_count": 54,
      "metadata": {
        "colab": {
          "base_uri": "https://localhost:8080/",
          "height": 403
        },
        "id": "V3XGJuWKTJUx",
        "outputId": "5a02938e-e19e-41b8-ebda-efe888f831c8"
      },
      "outputs": [
        {
          "name": "stderr",
          "output_type": "stream",
          "text": [
            "d:\\anaconda3\\Lib\\site-packages\\statsmodels\\tsa\\base\\tsa_model.py:473: ValueWarning: A date index has been provided, but it has no associated frequency information and so will be ignored when e.g. forecasting.\n",
            "  self._init_dates(dates, freq)\n"
          ]
        },
        {
          "data": {
            "text/html": [
              "<table class=\"simpletable\">\n",
              "<caption>VAR Order Selection (* highlights the minimums)</caption>\n",
              "<tr>\n",
              "   <td></td>      <th>AIC</th>         <th>BIC</th>         <th>FPE</th>        <th>HQIC</th>    \n",
              "</tr>\n",
              "<tr>\n",
              "  <th>0</th>  <td>     13.36</td>  <td>     13.38*</td> <td> 6.362e+05</td>  <td>     13.37*</td>\n",
              "</tr>\n",
              "<tr>\n",
              "  <th>1</th>  <td>     13.34*</td> <td>     13.43</td>  <td> 6.226e+05*</td> <td>     13.37</td> \n",
              "</tr>\n",
              "<tr>\n",
              "  <th>2</th>  <td>     13.35</td>  <td>     13.50</td>  <td> 6.255e+05</td>  <td>     13.40</td> \n",
              "</tr>\n",
              "<tr>\n",
              "  <th>3</th>  <td>     13.36</td>  <td>     13.57</td>  <td> 6.321e+05</td>  <td>     13.44</td> \n",
              "</tr>\n",
              "<tr>\n",
              "  <th>4</th>  <td>     13.36</td>  <td>     13.64</td>  <td> 6.323e+05</td>  <td>     13.46</td> \n",
              "</tr>\n",
              "<tr>\n",
              "  <th>5</th>  <td>     13.37</td>  <td>     13.72</td>  <td> 6.412e+05</td>  <td>     13.50</td> \n",
              "</tr>\n",
              "<tr>\n",
              "  <th>6</th>  <td>     13.38</td>  <td>     13.80</td>  <td> 6.456e+05</td>  <td>     13.54</td> \n",
              "</tr>\n",
              "<tr>\n",
              "  <th>7</th>  <td>     13.36</td>  <td>     13.84</td>  <td> 6.331e+05</td>  <td>     13.54</td> \n",
              "</tr>\n",
              "<tr>\n",
              "  <th>8</th>  <td>     13.37</td>  <td>     13.92</td>  <td> 6.383e+05</td>  <td>     13.57</td> \n",
              "</tr>\n",
              "<tr>\n",
              "  <th>9</th>  <td>     13.36</td>  <td>     13.98</td>  <td> 6.326e+05</td>  <td>     13.59</td> \n",
              "</tr>\n",
              "<tr>\n",
              "  <th>10</th> <td>     13.37</td>  <td>     14.06</td>  <td> 6.411e+05</td>  <td>     13.63</td> \n",
              "</tr>\n",
              "<tr>\n",
              "  <th>11</th> <td>     13.38</td>  <td>     14.14</td>  <td> 6.496e+05</td>  <td>     13.67</td> \n",
              "</tr>\n",
              "<tr>\n",
              "  <th>12</th> <td>     13.40</td>  <td>     14.22</td>  <td> 6.606e+05</td>  <td>     13.71</td> \n",
              "</tr>\n",
              "</table>"
            ],
            "text/latex": [
              "\\begin{center}\n",
              "\\begin{tabular}{lcccc}\n",
              "\\toprule\n",
              "            & \\textbf{AIC} & \\textbf{BIC} & \\textbf{FPE} & \\textbf{HQIC}  \\\\\n",
              "\\midrule\n",
              "\\textbf{0}  &       13.36  &      13.38*  &   6.362e+05  &       13.37*   \\\\\n",
              "\\textbf{1}  &      13.34*  &       13.43  &  6.226e+05*  &        13.37   \\\\\n",
              "\\textbf{2}  &       13.35  &       13.50  &   6.255e+05  &        13.40   \\\\\n",
              "\\textbf{3}  &       13.36  &       13.57  &   6.321e+05  &        13.44   \\\\\n",
              "\\textbf{4}  &       13.36  &       13.64  &   6.323e+05  &        13.46   \\\\\n",
              "\\textbf{5}  &       13.37  &       13.72  &   6.412e+05  &        13.50   \\\\\n",
              "\\textbf{6}  &       13.38  &       13.80  &   6.456e+05  &        13.54   \\\\\n",
              "\\textbf{7}  &       13.36  &       13.84  &   6.331e+05  &        13.54   \\\\\n",
              "\\textbf{8}  &       13.37  &       13.92  &   6.383e+05  &        13.57   \\\\\n",
              "\\textbf{9}  &       13.36  &       13.98  &   6.326e+05  &        13.59   \\\\\n",
              "\\textbf{10} &       13.37  &       14.06  &   6.411e+05  &        13.63   \\\\\n",
              "\\textbf{11} &       13.38  &       14.14  &   6.496e+05  &        13.67   \\\\\n",
              "\\textbf{12} &       13.40  &       14.22  &   6.606e+05  &        13.71   \\\\\n",
              "\\bottomrule\n",
              "\\end{tabular}\n",
              "%\\caption{VAR Order Selection (* highlights the minimums)}\n",
              "\\end{center}"
            ],
            "text/plain": [
              "<class 'statsmodels.iolib.table.SimpleTable'>"
            ]
          },
          "execution_count": 54,
          "metadata": {},
          "output_type": "execute_result"
        }
      ],
      "source": [
        "model = VAR(train_data_diff)\n",
        "x = model.select_order(maxlags=12)\n",
        "x.summary()"
      ]
    },
    {
      "cell_type": "code",
      "execution_count": 55,
      "metadata": {
        "colab": {
          "base_uri": "https://localhost:8080/"
        },
        "id": "U7YMz2TnUWPe",
        "outputId": "e2bf7bae-7b67-4eee-d21a-424bb3e339d6"
      },
      "outputs": [
        {
          "data": {
            "text/plain": [
              "  Summary of Regression Results   \n",
              "==================================\n",
              "Model:                         VAR\n",
              "Method:                        OLS\n",
              "Date:           Wed, 19, Jun, 2024\n",
              "Time:                     21:49:38\n",
              "--------------------------------------------------------------------\n",
              "No. of Equations:         4.00000    BIC:                    13.4044\n",
              "Nobs:                     1234.00    HQIC:                   13.3526\n",
              "Log likelihood:          -15203.2    FPE:                    610139.\n",
              "AIC:                      13.3214    Det(Omega_mle):         600350.\n",
              "--------------------------------------------------------------------\n",
              "Results for equation Close\n",
              "===========================================================================\n",
              "              coefficient       std. error           t-stat            prob\n",
              "---------------------------------------------------------------------------\n",
              "const            5.246200         3.818095            1.374           0.169\n",
              "L1.Close         0.018651         0.097360            0.192           0.848\n",
              "L1.COMP          0.060732         0.106334            0.571           0.568\n",
              "L1.NATS         18.128629       511.621395            0.035           0.972\n",
              "L1.MSCI         -0.623706         0.274251           -2.274           0.023\n",
              "===========================================================================\n",
              "\n",
              "Results for equation COMP\n",
              "===========================================================================\n",
              "              coefficient       std. error           t-stat            prob\n",
              "---------------------------------------------------------------------------\n",
              "const            7.572494         5.053801            1.498           0.134\n",
              "L1.Close         0.112823         0.128870            0.875           0.381\n",
              "L1.COMP          0.104636         0.140749            0.743           0.457\n",
              "L1.NATS       -230.033943       677.204994           -0.340           0.734\n",
              "L1.MSCI         -1.018647         0.363011           -2.806           0.005\n",
              "===========================================================================\n",
              "\n",
              "Results for equation NATS\n",
              "===========================================================================\n",
              "              coefficient       std. error           t-stat            prob\n",
              "---------------------------------------------------------------------------\n",
              "const            0.000640         0.000538            1.188           0.235\n",
              "L1.Close         0.000012         0.000014            0.867           0.386\n",
              "L1.COMP          0.000020         0.000015            1.332           0.183\n",
              "L1.NATS         -0.049574         0.072119           -0.687           0.492\n",
              "L1.MSCI         -0.000138         0.000039           -3.577           0.000\n",
              "===========================================================================\n",
              "\n",
              "Results for equation MSCI\n",
              "===========================================================================\n",
              "              coefficient       std. error           t-stat            prob\n",
              "---------------------------------------------------------------------------\n",
              "const            1.944720         1.282456            1.516           0.129\n",
              "L1.Close         0.064236         0.032702            1.964           0.049\n",
              "L1.COMP          0.014995         0.035716            0.420           0.675\n",
              "L1.NATS       -210.086570       171.847950           -1.223           0.222\n",
              "L1.MSCI         -0.245729         0.092118           -2.668           0.008\n",
              "===========================================================================\n",
              "\n",
              "Correlation matrix of residuals\n",
              "            Close      COMP      NATS      MSCI\n",
              "Close    1.000000  0.949236  0.903643  0.880799\n",
              "COMP     0.949236  1.000000  0.909327  0.948675\n",
              "NATS     0.903643  0.909327  1.000000  0.868304\n",
              "MSCI     0.880799  0.948675  0.868304  1.000000\n",
              "\n"
            ]
          },
          "execution_count": 55,
          "metadata": {},
          "output_type": "execute_result"
        }
      ],
      "source": [
        "model_train = model.fit(1)\n",
        "model_train.summary()"
      ]
    },
    {
      "cell_type": "markdown",
      "metadata": {
        "id": "jOGMp3pPVh5s"
      },
      "source": [
        "# Kiểm tra tương quan phần dư"
      ]
    },
    {
      "cell_type": "markdown",
      "metadata": {
        "id": "LoZI7FGvVmyI"
      },
      "source": [
        "Sử dụng kiểm định Durbin Watson\n",
        "Nếu có tương quan (giá trị gần 0 hoặc 4) cần tăng bậc mô hình hoặc đổi mô hình.\n",
        "Nếu gần 2 thì không có tương quan"
      ]
    },
    {
      "cell_type": "code",
      "execution_count": 56,
      "metadata": {
        "id": "TqWHA3RXVcDs"
      },
      "outputs": [],
      "source": [
        "from statsmodels.stats.stattools import durbin_watson"
      ]
    },
    {
      "cell_type": "code",
      "execution_count": 57,
      "metadata": {
        "colab": {
          "base_uri": "https://localhost:8080/"
        },
        "id": "Bz9RzK7hV8Yg",
        "outputId": "de94e807-8d25-45da-f4da-bb1787fff116"
      },
      "outputs": [
        {
          "name": "stdout",
          "output_type": "stream",
          "text": [
            "Close  : 1.99\n",
            "COMP   : 1.99\n",
            "NATS   : 1.98\n",
            "MSCI   : 1.99\n"
          ]
        }
      ],
      "source": [
        "def adjust(val, length= 6): return str(val).ljust(length)\n",
        "residual = durbin_watson(model_train.resid)\n",
        "\n",
        "for col, val in zip(data.columns, residual):\n",
        "    print(adjust(col), ':', round(val, 2))"
      ]
    },
    {
      "cell_type": "markdown",
      "metadata": {
        "id": "uKCqd6EVYa0g"
      },
      "source": [
        "# Dự báo"
      ]
    },
    {
      "cell_type": "code",
      "execution_count": 58,
      "metadata": {
        "colab": {
          "base_uri": "https://localhost:8080/"
        },
        "id": "5XrAyAxkYsUN",
        "outputId": "e055da1f-1116-49d9-e295-74a9a13b1d94"
      },
      "outputs": [
        {
          "data": {
            "text/plain": [
              "array([[-1.59900000e+01,  5.51800000e+01, -2.07107656e-03,\n",
              "         1.61100000e+01]])"
            ]
          },
          "execution_count": 58,
          "metadata": {},
          "output_type": "execute_result"
        }
      ],
      "source": [
        "lag_order = model_train.k_ar\n",
        "forecast_input = train_data_diff.values[-lag_order:]\n",
        "forecast_input"
      ]
    },
    {
      "cell_type": "markdown",
      "metadata": {},
      "source": [
        "Dự báo đa bước"
      ]
    },
    {
      "cell_type": "code",
      "execution_count": 59,
      "metadata": {
        "colab": {
          "base_uri": "https://localhost:8080/",
          "height": 237
        },
        "id": "wB2aEmxOa3Jt",
        "outputId": "5ddac030-22ba-4991-85a1-d275cfc5862f"
      },
      "outputs": [],
      "source": [
        "# fc = model_train.forecast(y=forecast_input, steps=len(test_data))\n",
        "# forecast_data = pd.DataFrame(fc, index=data.index[-len(test_data):], columns=data.columns)\n",
        "# forecast_data.head()"
      ]
    },
    {
      "cell_type": "markdown",
      "metadata": {},
      "source": [
        "Dự báo một bước"
      ]
    },
    {
      "cell_type": "code",
      "execution_count": 60,
      "metadata": {},
      "outputs": [],
      "source": [
        "# test_data_pre = data[-n_test-1:]\n",
        "# test_data_be_diff = pd.DataFrame()\n",
        "# test_data_be_diff['Close'] = test_data_pre['Close']\n",
        "# test_data_be_diff['COMP'] = test_data_pre['COMP']\n",
        "# test_data_be_diff['NATS'] = np.log(test_data_pre['NATS']) \n",
        "# test_data_be_diff['MSCI'] = test_data_pre['MSCI']\n",
        "# test_data_diff = test_data_be_diff.diff()\n",
        "# test_data_diff = test_data_diff.dropna()"
      ]
    },
    {
      "cell_type": "code",
      "execution_count": 61,
      "metadata": {},
      "outputs": [],
      "source": [
        "# fc_multi = np.empty((22,4))\n",
        "# forecast_multi = forecast_input\n",
        "# for i in range(len(test_data)):\n",
        "#     fc_multi_i = model_train.forecast(y=forecast_multi, steps=1)\n",
        "#     fc_multi[i] = fc_multi_i\n",
        "#     forecast_multi = forecast_multi[1:,:]\n",
        "#     new_row = test_data_diff.iloc[i].to_numpy().reshape(1, -1)\n",
        "#     forecast_multi = np.vstack((forecast_multi, new_row))\n",
        "# forecast_data = pd.DataFrame(fc_multi, index=data.index[-len(test_data):], columns=data.columns)\n",
        "# forecast_data.head()\n"
      ]
    },
    {
      "cell_type": "markdown",
      "metadata": {},
      "source": [
        "Chuyển ngược về ban đầu"
      ]
    },
    {
      "cell_type": "code",
      "execution_count": 62,
      "metadata": {
        "colab": {
          "base_uri": "https://localhost:8080/",
          "height": 206
        },
        "id": "FxWSqA2NbscI",
        "outputId": "57bba95e-f649-474a-9cf2-636b32cc057c"
      },
      "outputs": [
        {
          "data": {
            "text/html": [
              "<div>\n",
              "<style scoped>\n",
              "    .dataframe tbody tr th:only-of-type {\n",
              "        vertical-align: middle;\n",
              "    }\n",
              "\n",
              "    .dataframe tbody tr th {\n",
              "        vertical-align: top;\n",
              "    }\n",
              "\n",
              "    .dataframe thead th {\n",
              "        text-align: right;\n",
              "    }\n",
              "</style>\n",
              "<table border=\"1\" class=\"dataframe\">\n",
              "  <thead>\n",
              "    <tr style=\"text-align: right;\">\n",
              "      <th></th>\n",
              "      <th>Close</th>\n",
              "      <th>COMP</th>\n",
              "      <th>NATS</th>\n",
              "      <th>MSCI</th>\n",
              "    </tr>\n",
              "  </thead>\n",
              "  <tbody>\n",
              "    <tr>\n",
              "      <th>0</th>\n",
              "      <td>0.00</td>\n",
              "      <td>0.00</td>\n",
              "      <td>0.000000</td>\n",
              "      <td>0.00</td>\n",
              "    </tr>\n",
              "    <tr>\n",
              "      <th>1</th>\n",
              "      <td>150.96</td>\n",
              "      <td>194.10</td>\n",
              "      <td>0.032325</td>\n",
              "      <td>56.59</td>\n",
              "    </tr>\n",
              "    <tr>\n",
              "      <th>2</th>\n",
              "      <td>8.23</td>\n",
              "      <td>48.36</td>\n",
              "      <td>0.014433</td>\n",
              "      <td>21.99</td>\n",
              "    </tr>\n",
              "    <tr>\n",
              "      <th>3</th>\n",
              "      <td>46.24</td>\n",
              "      <td>40.07</td>\n",
              "      <td>0.006249</td>\n",
              "      <td>16.28</td>\n",
              "    </tr>\n",
              "    <tr>\n",
              "      <th>4</th>\n",
              "      <td>60.35</td>\n",
              "      <td>126.55</td>\n",
              "      <td>0.014777</td>\n",
              "      <td>28.52</td>\n",
              "    </tr>\n",
              "  </tbody>\n",
              "</table>\n",
              "</div>"
            ],
            "text/plain": [
              "    Close    COMP      NATS   MSCI\n",
              "0    0.00    0.00  0.000000   0.00\n",
              "1  150.96  194.10  0.032325  56.59\n",
              "2    8.23   48.36  0.014433  21.99\n",
              "3   46.24   40.07  0.006249  16.28\n",
              "4   60.35  126.55  0.014777  28.52"
            ]
          },
          "execution_count": 62,
          "metadata": {},
          "output_type": "execute_result"
        }
      ],
      "source": [
        "forecast_data_all = pd.concat([train_data_diff, forecast_data], ignore_index=True)\n",
        "new_row = pd.DataFrame([[0, 0, 0, 0]], columns=data.columns)\n",
        "forecast_data_all = pd.concat([new_row, forecast_data_all], ignore_index=True)\n",
        "forecast_data_all.head()"
      ]
    },
    {
      "cell_type": "code",
      "execution_count": 63,
      "metadata": {
        "colab": {
          "base_uri": "https://localhost:8080/",
          "height": 237
        },
        "id": "8_-jNBheiVT9",
        "outputId": "8e00115a-c05a-41e3-d3a3-9de27235f2db"
      },
      "outputs": [
        {
          "data": {
            "text/html": [
              "<div>\n",
              "<style scoped>\n",
              "    .dataframe tbody tr th:only-of-type {\n",
              "        vertical-align: middle;\n",
              "    }\n",
              "\n",
              "    .dataframe tbody tr th {\n",
              "        vertical-align: top;\n",
              "    }\n",
              "\n",
              "    .dataframe thead th {\n",
              "        text-align: right;\n",
              "    }\n",
              "</style>\n",
              "<table border=\"1\" class=\"dataframe\">\n",
              "  <thead>\n",
              "    <tr style=\"text-align: right;\">\n",
              "      <th></th>\n",
              "      <th>Close</th>\n",
              "      <th>COMP</th>\n",
              "      <th>NATS</th>\n",
              "      <th>MSCI</th>\n",
              "    </tr>\n",
              "    <tr>\n",
              "      <th>Date</th>\n",
              "      <th></th>\n",
              "      <th></th>\n",
              "      <th></th>\n",
              "      <th></th>\n",
              "    </tr>\n",
              "  </thead>\n",
              "  <tbody>\n",
              "    <tr>\n",
              "      <th>2019-06-03</th>\n",
              "      <td>4170.02</td>\n",
              "      <td>7333.02</td>\n",
              "      <td>835.84</td>\n",
              "      <td>2615.02</td>\n",
              "    </tr>\n",
              "    <tr>\n",
              "      <th>2019-06-04</th>\n",
              "      <td>4320.98</td>\n",
              "      <td>7527.12</td>\n",
              "      <td>863.30</td>\n",
              "      <td>2671.61</td>\n",
              "    </tr>\n",
              "    <tr>\n",
              "      <th>2019-06-05</th>\n",
              "      <td>4329.21</td>\n",
              "      <td>7575.48</td>\n",
              "      <td>875.85</td>\n",
              "      <td>2693.60</td>\n",
              "    </tr>\n",
              "    <tr>\n",
              "      <th>2019-06-06</th>\n",
              "      <td>4375.45</td>\n",
              "      <td>7615.55</td>\n",
              "      <td>881.34</td>\n",
              "      <td>2709.88</td>\n",
              "    </tr>\n",
              "    <tr>\n",
              "      <th>2019-06-07</th>\n",
              "      <td>4435.80</td>\n",
              "      <td>7742.10</td>\n",
              "      <td>894.46</td>\n",
              "      <td>2738.40</td>\n",
              "    </tr>\n",
              "  </tbody>\n",
              "</table>\n",
              "</div>"
            ],
            "text/plain": [
              "              Close     COMP    NATS     MSCI\n",
              "Date                                         \n",
              "2019-06-03  4170.02  7333.02  835.84  2615.02\n",
              "2019-06-04  4320.98  7527.12  863.30  2671.61\n",
              "2019-06-05  4329.21  7575.48  875.85  2693.60\n",
              "2019-06-06  4375.45  7615.55  881.34  2709.88\n",
              "2019-06-07  4435.80  7742.10  894.46  2738.40"
            ]
          },
          "execution_count": 63,
          "metadata": {},
          "output_type": "execute_result"
        }
      ],
      "source": [
        "forecast_data_all_return = pd.DataFrame()\n",
        "forecast_data_all_return = forecast_data_all.cumsum() + train_data_be_diff.iloc[0]\n",
        "forecast_data_all_return['NATS'] = np.exp(forecast_data_all_return['NATS'])\n",
        "forecast_data_all_return.set_index(data.index, inplace=True)\n",
        "forecast_data_all_return.head()"
      ]
    },
    {
      "cell_type": "code",
      "execution_count": 64,
      "metadata": {
        "id": "DW0zW-uMcjqH"
      },
      "outputs": [],
      "source": [
        "from sklearn.metrics import mean_absolute_percentage_error\n",
        "from sklearn.metrics import mean_squared_error"
      ]
    },
    {
      "cell_type": "code",
      "execution_count": 65,
      "metadata": {
        "colab": {
          "base_uri": "https://localhost:8080/"
        },
        "id": "GDmdcfONisou",
        "outputId": "eb7ec7db-885d-4530-b47f-a3201002e5ea"
      },
      "outputs": [
        {
          "data": {
            "text/plain": [
              "0.024554748231631708"
            ]
          },
          "execution_count": 65,
          "metadata": {},
          "output_type": "execute_result"
        }
      ],
      "source": [
        "mape_close = mean_absolute_percentage_error(test_data['Close'], forecast_data_all_return['Close'][-n_test:]) \n",
        "mape_close"
      ]
    },
    {
      "cell_type": "code",
      "execution_count": 66,
      "metadata": {
        "colab": {
          "base_uri": "https://localhost:8080/"
        },
        "id": "ZzFi2TUmjC1V",
        "outputId": "c2dc6b82-f45d-4120-c4bf-c0ad3558439f"
      },
      "outputs": [
        {
          "data": {
            "text/plain": [
              "308.93412270796586"
            ]
          },
          "execution_count": 66,
          "metadata": {},
          "output_type": "execute_result"
        }
      ],
      "source": [
        "mse_close = mean_squared_error(test_data['Close'], forecast_data_all_return['Close'][-n_test:])\n",
        "rmse_close = np.sqrt(mse_close)\n",
        "rmse_close"
      ]
    },
    {
      "cell_type": "code",
      "execution_count": 67,
      "metadata": {
        "colab": {
          "base_uri": "https://localhost:8080/",
          "height": 564
        },
        "id": "xt661OBvjZxI",
        "outputId": "78fc6148-2253-492e-db23-1c78b5560ffb"
      },
      "outputs": [
        {
          "data": {
            "image/png": "[encoded data removed]",
            "text/plain": [
              "<Figure size 1000x600 with 1 Axes>"
            ]
          },
          "metadata": {},
          "output_type": "display_data"
        }
      ],
      "source": [
        "plt.figure(figsize=(10, 6))\n",
        "plt.plot(test_data['Close'], color='blue', label='Actual Stock Price')\n",
        "plt.plot(forecast_data_all_return['Close'][-n_test:], color='red', label='Predicted Stock Price')\n",
        "plt.title('Stock Price Prediction')\n",
        "plt.xlabel('Time')\n",
        "plt.ylabel('Stock Price')\n",
        "plt.legend()\n",
        "plt.grid(True)\n",
        "plt.show()"
      ]
    },
    {
      "cell_type": "markdown",
      "metadata": {
        "id": "O1uukfnZj8J2"
      },
      "source": [
        "# Lưu mô hình"
      ]
    },
    {
      "cell_type": "code",
      "execution_count": 68,
      "metadata": {
        "id": "8mYllrQRj-rf"
      },
      "outputs": [],
      "source": [
        "# model_train.save('VAREconomic.pkl')"
      ]
    },
    {
      "cell_type": "code",
      "execution_count": 69,
      "metadata": {},
      "outputs": [],
      "source": [
        "# np.save('forecast_economic.npy', forecast_input)"
      ]
    }
  ],
  "metadata": {
    "colab": {
      "provenance": []
    },
    "kernelspec": {
      "display_name": "Python 3",
      "name": "python3"
    },
    "language_info": {
      "codemirror_mode": {
        "name": "ipython",
        "version": 3
      },
      "file_extension": ".py",
      "mimetype": "text/x-python",
      "name": "python",
      "nbconvert_exporter": "python",
      "pygments_lexer": "ipython3",
      "version": "3.11.7"
    }
  },
  "nbformat": 4,
  "nbformat_minor": 0
}
